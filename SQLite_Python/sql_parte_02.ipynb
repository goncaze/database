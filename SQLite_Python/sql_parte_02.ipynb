{
  "nbformat": 4,
  "nbformat_minor": 0,
  "metadata": {
    "colab": {
      "provenance": [],
      "collapsed_sections": [
        "25A_ykte7yir",
        "P1rAolM5sHep",
        "_ijkpSXttTey",
        "XWlHZ7MLsmPn",
        "5K35FyeNt4Yi",
        "6ctPq05ZtStz",
        "25rVobMAtTzr",
        "gqd5IeqewmyR",
        "d5R2-Hrtt42c",
        "rd5OPRAnsld5",
        "hXUAZvlE8acX",
        "DjLcQUh28acY"
      ],
      "include_colab_link": true
    },
    "kernelspec": {
      "name": "python3",
      "display_name": "Python 3"
    },
    "language_info": {
      "name": "python"
    }
  },
  "cells": [
    {
      "cell_type": "markdown",
      "metadata": {
        "id": "view-in-github",
        "colab_type": "text"
      },
      "source": [
        "<a href=\"https://colab.research.google.com/github/goncaze/database/blob/main/SQLite_Python/SQLite_AlterTable.ipynb\" target=\"_parent\"><img src=\"https://colab.research.google.com/assets/colab-badge.svg\" alt=\"Open In Colab\"/></a>"
      ]
    },
    {
      "cell_type": "markdown",
      "source": [
        "## <font color='ocean'>__Módulo Python para trabalhar com SQLite3__</font>\n",
        "\n",
        "SQLite é uma biblioteca C que fornece um banco de dados leve baseado em disco que não requer um processo de servidor separado e permite acessar o banco de dados usando uma variante não padrão da linguagem de consulta SQL. Algumas aplicações podem usar SQLite para armazenamento interno de dados. Também é possível prototipar um aplicativo usando SQLite e, em seguida, portar o código para um banco de dados maior, como PostgreSQL ou Oracle.\n",
        "\n",
        "Documentação: https://docs.python.org/pt-br/3.12/library/sqlite3.html"
      ],
      "metadata": {
        "id": "25A_ykte7yir"
      }
    },
    {
      "cell_type": "code",
      "execution_count": null,
      "metadata": {
        "id": "pz2vUHZym6DI"
      },
      "outputs": [],
      "source": [
        "import sqlite3\n",
        "\n",
        "\n",
        "class Database:\n",
        "\n",
        "    def __init__(self) -> None:\n",
        "        self.conexao: sqlite3.Connection = None\n",
        "        self.cursor: sqlite3.Cursor = None\n",
        "\n",
        "    # -----------------------------------------------------------------------\n",
        "    def executar_sql(self, sql: str, parametros: tuple = ()) -> sqlite3.Cursor:\n",
        "        \"\"\"\n",
        "        Método que executa as instruções SQL\n",
        "        Retorna um cursor com o resultado do banco de dados\n",
        "        \"\"\"\n",
        "        # Cria uma conexão com o arquivo de banco de dados\n",
        "        with sqlite3.connect(\"./meu_database.db\", check_same_thread=True) as self.conexao:\n",
        "            # Obter um cursor a partir da conexão\n",
        "            self.cursor = self.conexao.cursor()\n",
        "            # Executa a instrução sql com os parâmetros fornecidos\n",
        "            self.cursor.execute(sql, parametros)\n",
        "            # Confirma a alteração de estado do banco de dados\n",
        "            self.conexao.commit()\n",
        "        # Retorna o cursor contendo o resultado da execução sql/parâmetros\n",
        "        return self.cursor"
      ]
    },
    {
      "cell_type": "code",
      "source": [
        "dbs = Database()"
      ],
      "metadata": {
        "id": "Saq_tcigoBpb"
      },
      "execution_count": null,
      "outputs": []
    },
    {
      "cell_type": "markdown",
      "source": [
        "## <font color='ocean'>__CRIAR TABELAS__</font>\n",
        "\n",
        "Documentação: https://www.sqlite.org/lang_createtable.html"
      ],
      "metadata": {
        "id": "P1rAolM5sHep"
      }
    },
    {
      "cell_type": "markdown",
      "source": [
        "### <font color='orange'>**Criar tabelas**</font>\n",
        "+ Apenas execute o comando sql a seguir:"
      ],
      "metadata": {
        "id": "_ijkpSXttTey"
      }
    },
    {
      "cell_type": "code",
      "source": [
        "sql1 = \"\"\"\n",
        "    CREATE TABLE IF NOT EXISTS data_categoria (\n",
        "        id INTEGER PRIMARY KEY,\n",
        "        descricao TEXT,\n",
        "        categoria TEXT UNIQUE\n",
        "    );\n",
        "\"\"\"\n",
        "\n",
        "sql2 = \"\"\"\n",
        "    CREATE TABLE IF NOT EXISTS data (\n",
        "        id INTEGER PRIMARY KEY,\n",
        "        data TEXT UNIQUE,\n",
        "        data_categoria_id INTEGER,\n",
        "        FOREIGN KEY(data_categoria_id) REFERENCES data_categoria(id)\n",
        "    );\n",
        "\"\"\"\n",
        "\n",
        "sql3 = \"\"\"\n",
        "CREATE TABLE IF NOT EXISTS evento_categoria (\n",
        "    id INTEGER PRIMARY KEY,\n",
        "    categoria TEXT UNIQUE,\n",
        "    descricao TEXT\n",
        ");\n",
        "\"\"\"\n",
        "\n",
        "sql4 = \"\"\"\n",
        "    CREATE TABLE IF NOT EXISTS evento (\n",
        "        id INTEGER PRIMARY KEY,\n",
        "        descricao TEXT,\n",
        "        evento TEXT,\n",
        "        evento_categoria_id TEXT,\n",
        "        FOREIGN KEY(evento_categoria_id) REFERENCES evento_categoria(id)\n",
        "    );\n",
        "\"\"\"\n",
        "\n",
        "sql5 = \"\"\"\n",
        "    CREATE TABLE IF NOT EXISTS evento_data (\n",
        "        data_id INTEGER,\n",
        "        evento_id INTEGER,\n",
        "        PRIMARY KEY(data_id, evento_id),\n",
        "        FOREIGN KEY (data_id) REFERENCES data(id),\n",
        "        FOREIGN KEY (evento_id) REFERENCES evento(id)\n",
        "    );\n",
        "\"\"\"\n",
        "\n",
        "lista_sql = [sql1, sql2, sql3, sql4, sql5]\n",
        "\n",
        "for sql in lista_sql:\n",
        "    dbs.executar_sql(sql)\n",
        "\n"
      ],
      "metadata": {
        "id": "CFd7tqWJtTez"
      },
      "execution_count": null,
      "outputs": []
    },
    {
      "cell_type": "markdown",
      "source": [
        "## <font color='ocean'>__ALTERAÇÃO DE TABELAS__</font>\n",
        "\n",
        "Com o comando ALTER TABLE podemos realizar as seguintes alterações em uma tabela:\n",
        "\n",
        "* Renomear a tabela;\n",
        "* Renomear uma coluna;\n",
        "* Adicionar uma nova coluna;\n",
        "* Excluir uma coluna;\n",
        "\n",
        "\n",
        "Documentação: https://www.sqlite.org/lang_altertable.html"
      ],
      "metadata": {
        "id": "f5sy9-m-tWlP"
      }
    },
    {
      "cell_type": "markdown",
      "source": [
        "### <font color='orange'>**Renomear a tabela data_categoria**</font>\n"
      ],
      "metadata": {
        "id": "sHFt656ptdV1"
      }
    },
    {
      "cell_type": "code",
      "source": [
        "sql = \"\"\"\n",
        "    ALTER TABLE\n",
        "        data_categoria\n",
        "    RENAME TO\n",
        "        data_categoria_2\n",
        "\"\"\"\n",
        "\n",
        "dbs.executar_sql(sql)"
      ],
      "metadata": {
        "id": "zZyvAupxu7p9"
      },
      "execution_count": null,
      "outputs": []
    },
    {
      "cell_type": "code",
      "source": [
        "sql = \" SELECT name FROM sqlite_schema WHERE type='table' ORDER BY name\"\n",
        "\n",
        "for i in dbs.executar_sql(sql):\n",
        "    print(i[0])"
      ],
      "metadata": {
        "id": "fO9_k6MbyWxy"
      },
      "execution_count": null,
      "outputs": []
    },
    {
      "cell_type": "markdown",
      "source": [
        "### <font color='orange'>**Renomear uma coluna da tabela data_categoria_2**</font>\n"
      ],
      "metadata": {
        "id": "VWEh5601u99F"
      }
    },
    {
      "cell_type": "code",
      "source": [
        "sql = \"\"\"\n",
        "    ALTER TABLE\n",
        "        data_categoria_2\n",
        "    RENAME COLUMN\n",
        "        descricao\n",
        "    TO\n",
        "        comentario\n",
        "\"\"\"\n",
        "\n",
        "dbs.executar_sql(sql)"
      ],
      "metadata": {
        "id": "Q5J3gNSFu99F"
      },
      "execution_count": null,
      "outputs": []
    },
    {
      "cell_type": "code",
      "source": [
        "sql = \"SELECT sql FROM sqlite_schema WHERE name='data_categoria_2'\"\n",
        "\n",
        "for i in dbs.executar_sql(sql):\n",
        "    print(i[0])"
      ],
      "metadata": {
        "id": "bgwc_V1d0sKG"
      },
      "execution_count": null,
      "outputs": []
    },
    {
      "cell_type": "markdown",
      "source": [
        "### <font color='orange'>**Adicionar uma coluna na tabela data_categoria_2**</font>\n"
      ],
      "metadata": {
        "id": "A_Fo8mJou-TS"
      }
    },
    {
      "cell_type": "code",
      "source": [
        "sql = \"\"\"\n",
        "    ALTER TABLE\n",
        "        data_categoria_2\n",
        "    ADD COLUMN\n",
        "        numero REAL\n",
        "\"\"\"\n",
        "\n",
        "dbs.executar_sql(sql)"
      ],
      "metadata": {
        "id": "_GlJlf3ju-TS"
      },
      "execution_count": null,
      "outputs": []
    },
    {
      "cell_type": "code",
      "source": [
        "sql = \"SELECT sql FROM sqlite_schema WHERE name='data_categoria_2'\"\n",
        "\n",
        "for i in dbs.executar_sql(sql):\n",
        "    print(i[0])"
      ],
      "metadata": {
        "id": "BndZN2lD798d"
      },
      "execution_count": null,
      "outputs": []
    },
    {
      "cell_type": "markdown",
      "source": [
        "### <font color='orange'>**Excluir uma coluna na tabela data_categoria_2**</font>\n"
      ],
      "metadata": {
        "id": "SeBbn_5du-lU"
      }
    },
    {
      "cell_type": "code",
      "source": [
        "sql = \"\"\"\n",
        "    ALTER TABLE\n",
        "        data_categoria_2\n",
        "    DROP COLUMN\n",
        "        comentario\n",
        "\"\"\"\n",
        "\n",
        "dbs.executar_sql(sql)"
      ],
      "metadata": {
        "id": "dBIPWaTXu-lV"
      },
      "execution_count": null,
      "outputs": []
    },
    {
      "cell_type": "code",
      "source": [
        "sql = \"SELECT sql FROM sqlite_schema WHERE name='data_categoria_2'\"\n",
        "\n",
        "for i in dbs.executar_sql(sql):\n",
        "    print(i[0])"
      ],
      "metadata": {
        "id": "nTT3quLQ9Nn4"
      },
      "execution_count": null,
      "outputs": []
    },
    {
      "cell_type": "markdown",
      "source": [
        "# <font color=\"ocean\" align='center'>**ATIVIDADE DE PESQUISA E REALIZAÇÃO DE EXERCÍCIOS**</font>\n",
        "# <font color=\"yellow\" align='center'>**ATIVIDADE DE PESQUISA E REALIZAÇÃO DE EXERCÍCIOS**</font>\n",
        "# <font color=\"blue\" align='center'>**ATIVIDADE DE PESQUISA E REALIZAÇÃO DE EXERCÍCIOS**</font>"
      ],
      "metadata": {
        "id": "MTM3qP_gICTC"
      }
    },
    {
      "cell_type": "markdown",
      "source": [
        "## <font color='ocean'>__Excluir tabelas__</font>\n",
        "\n",
        "Documentação: https://www.sqlite.org/lang_droptable.html"
      ],
      "metadata": {
        "id": "NybLJgso_GtT"
      }
    },
    {
      "cell_type": "markdown",
      "source": [
        "### <font color='orange'>**Exclusão de todas as tabelas do banco de dados meu_database.db**</font>\n",
        "\n",
        "* Excluir tabela evento_categoria\n",
        "* Excluir tabela data_categoria\n",
        "* Excluir tabela evento\n",
        "* Excluir tabela data\n",
        "* Excluir tabela evento_data"
      ],
      "metadata": {
        "id": "9CamG2mS_GtU"
      }
    },
    {
      "cell_type": "code",
      "source": [
        "# Excluir tabela evento_data\n",
        "\n"
      ],
      "metadata": {
        "id": "lLCfi1qqK2qc"
      },
      "execution_count": null,
      "outputs": []
    },
    {
      "cell_type": "code",
      "source": [
        "# Excluir tabela evento_categoria\n",
        "\n"
      ],
      "metadata": {
        "id": "kh6Hnzsf_GtU"
      },
      "execution_count": null,
      "outputs": []
    },
    {
      "cell_type": "code",
      "source": [
        "#Excluir tabela evento\n",
        "\n"
      ],
      "metadata": {
        "id": "_MiUomf8JX4U"
      },
      "execution_count": null,
      "outputs": []
    },
    {
      "cell_type": "code",
      "source": [
        "# Excluir tabela data_categoria\n",
        "\n"
      ],
      "metadata": {
        "id": "jHznDquqJVpE"
      },
      "execution_count": null,
      "outputs": []
    },
    {
      "cell_type": "code",
      "source": [
        "# Excluir tabela data\n",
        "\n"
      ],
      "metadata": {
        "id": "i3yFmRmQJdAN"
      },
      "execution_count": null,
      "outputs": []
    },
    {
      "cell_type": "markdown",
      "source": [
        "## <font color='ocean'>__Recriar tabelas__</font>\n",
        "\n",
        "Documentação: https://www.sqlite.org/lang_createtable.html"
      ],
      "metadata": {
        "id": "mHR94VAT_knD"
      }
    },
    {
      "cell_type": "markdown",
      "source": [
        "### <font color='orange'>**Crie as novas tabelas sugeridas**</font>\n",
        "\n",
        "* Apenas execute o comando sql a seguir:"
      ],
      "metadata": {
        "id": "YswJZmdI_knE"
      }
    },
    {
      "cell_type": "code",
      "source": [
        "sql1 = \"\"\"\n",
        "    CREATE TABLE IF NOT EXISTS data_categoria (\n",
        "        id INTEGER PRIMARY KEY,\n",
        "        descricao2 TEXT,\n",
        "        categoria2 TEXT UNIQUE\n",
        "    );\n",
        "\"\"\"\n",
        "\n",
        "sql2 = \"\"\"\n",
        "    CREATE TABLE IF NOT EXISTS data (\n",
        "        id INTEGER PRIMARY KEY,\n",
        "        data3 TEXT UNIQUE,\n",
        "        data_categoria_id INTEGER,\n",
        "        FOREIGN KEY(data_categoria_id) REFERENCES data_categoria(id)\n",
        "    );\n",
        "\"\"\"\n",
        "\n",
        "sql3 = \"\"\"\n",
        "CREATE TABLE IF NOT EXISTS evento_categoria (\n",
        "    id INTEGER PRIMARY KEY,\n",
        "    categoria4 TEXT UNIQUE,\n",
        "    descricao4 TEXT\n",
        ");\n",
        "\"\"\"\n",
        "\n",
        "sql4 = \"\"\"\n",
        "    CREATE TABLE IF NOT EXISTS evento (\n",
        "        id INTEGER PRIMARY KEY,\n",
        "        descricao5 TEXT,\n",
        "        evento5 TEXT,\n",
        "        evento_categoria_id TEXT,\n",
        "        FOREIGN KEY(evento_categoria_id) REFERENCES evento_categoria(id)\n",
        "    );\n",
        "\"\"\"\n",
        "\n",
        "sql5 = \"\"\"\n",
        "    CREATE TABLE IF NOT EXISTS evento_data6 (\n",
        "        data_id INTEGER,\n",
        "        evento_id INTEGER,\n",
        "        PRIMARY KEY(data_id, evento_id),\n",
        "        FOREIGN KEY (data_id) REFERENCES data(id),\n",
        "        FOREIGN KEY (evento_id) REFERENCES evento(id)\n",
        "    );\n",
        "\"\"\"\n",
        "\n",
        "lista_sql = [sql1, sql2, sql3, sql4, sql5]\n",
        "\n",
        "for sql in lista_sql:\n",
        "    dbs.executar_sql(sql)\n",
        "\n"
      ],
      "metadata": {
        "id": "WrEodbFn_knE"
      },
      "execution_count": null,
      "outputs": []
    },
    {
      "cell_type": "markdown",
      "source": [
        "## <font color='ocean'>__ALTERAÇÃO DO NOME DE TABELA__</font>\n",
        "\n",
        "**ATENÇÃO:** descubra qual tabela recebeu um número em seu nome. Você deve renomear essa tabela de forma que não tenha mais esse número em seu nome.\n",
        "\n",
        "\n",
        "Documentação: https://www.sqlite.org/lang_altertable.html"
      ],
      "metadata": {
        "id": "s8-rXgwpCLjJ"
      }
    },
    {
      "cell_type": "markdown",
      "source": [
        "### <font color='orange'>**Renomear a tabela com número em seu nome**</font>\n"
      ],
      "metadata": {
        "id": "wtDv_y1wCLjJ"
      }
    },
    {
      "cell_type": "code",
      "source": [],
      "metadata": {
        "id": "-FhwEON-CLjJ"
      },
      "execution_count": null,
      "outputs": []
    },
    {
      "cell_type": "markdown",
      "source": [
        "## <font color='ocean'>__ALTERAÇÃO DO NOME DE COLUNAS__</font>\n",
        "\n",
        "**ATENÇÃO:** descubra quais tabelas tiveram colunas que receberam um número em seu nome. Você deve renomear essas colunas de forma que não tenham mais esse número em seu nome.\n",
        "\n",
        "\n",
        "Documentação: https://www.sqlite.org/lang_altertable.html"
      ],
      "metadata": {
        "id": "gTxyfTAHExsd"
      }
    },
    {
      "cell_type": "markdown",
      "source": [
        "### <font color='orange'>**Renomear nome de __*TODAS*__ as colunas com número em seu nome**</font>\n"
      ],
      "metadata": {
        "id": "fdHCOWTbExsd"
      }
    },
    {
      "cell_type": "code",
      "source": [],
      "metadata": {
        "id": "Sb8m6eo3Exse"
      },
      "execution_count": null,
      "outputs": []
    },
    {
      "cell_type": "code",
      "source": [],
      "metadata": {
        "id": "9Fn4HzfyeJY8"
      },
      "execution_count": null,
      "outputs": []
    },
    {
      "cell_type": "code",
      "source": [],
      "metadata": {
        "id": "fBoFCX6geJSs"
      },
      "execution_count": null,
      "outputs": []
    },
    {
      "cell_type": "code",
      "source": [],
      "metadata": {
        "id": "xix8FXOZeJFG"
      },
      "execution_count": null,
      "outputs": []
    },
    {
      "cell_type": "code",
      "source": [],
      "metadata": {
        "id": "uZ-lTbSzeI0U"
      },
      "execution_count": null,
      "outputs": []
    },
    {
      "cell_type": "code",
      "source": [],
      "metadata": {
        "id": "NUkszHjKeIry"
      },
      "execution_count": null,
      "outputs": []
    },
    {
      "cell_type": "code",
      "source": [],
      "metadata": {
        "id": "YcAzuhRieIfH"
      },
      "execution_count": null,
      "outputs": []
    }
  ]
}
