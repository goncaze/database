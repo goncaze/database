{
  "nbformat": 4,
  "nbformat_minor": 0,
  "metadata": {
    "colab": {
      "provenance": [],
      "collapsed_sections": [
        "25A_ykte7yir",
        "P1rAolM5sHep",
        "_ijkpSXttTey",
        "XWlHZ7MLsmPn",
        "5K35FyeNt4Yi",
        "6ctPq05ZtStz",
        "25rVobMAtTzr",
        "gqd5IeqewmyR",
        "d5R2-Hrtt42c",
        "rd5OPRAnsld5",
        "hXUAZvlE8acX",
        "DjLcQUh28acY"
      ],
      "authorship_tag": "ABX9TyO1PR7Z5s7ASMwRyrGNPZsc",
      "include_colab_link": true
    },
    "kernelspec": {
      "name": "python3",
      "display_name": "Python 3"
    },
    "language_info": {
      "name": "python"
    }
  },
  "cells": [
    {
      "cell_type": "markdown",
      "metadata": {
        "id": "view-in-github",
        "colab_type": "text"
      },
      "source": [
        "<a href=\"https://colab.research.google.com/github/goncaze/database/blob/main/SQLite_Python/SQLite_Python.ipynb\" target=\"_parent\"><img src=\"https://colab.research.google.com/assets/colab-badge.svg\" alt=\"Open In Colab\"/></a>"
      ]
    },
    {
      "cell_type": "markdown",
      "source": [
        "## <font color='ocean'>__Módulo Python para trabalhar com SQLite3__</font>\n",
        "\n",
        "SQLite é uma biblioteca C que fornece um banco de dados leve baseado em disco que não requer um processo de servidor separado e permite acessar o banco de dados usando uma variante não padrão da linguagem de consulta SQL. Algumas aplicações podem usar SQLite para armazenamento interno de dados. Também é possível prototipar um aplicativo usando SQLite e, em seguida, portar o código para um banco de dados maior, como PostgreSQL ou Oracle.\n",
        "\n",
        "Documentação: https://docs.python.org/pt-br/3.12/library/sqlite3.html"
      ],
      "metadata": {
        "id": "25A_ykte7yir"
      }
    },
    {
      "cell_type": "code",
      "execution_count": null,
      "metadata": {
        "id": "pz2vUHZym6DI"
      },
      "outputs": [],
      "source": [
        "import sqlite3\n",
        "\n",
        "\n",
        "class Database:\n",
        "\n",
        "    def __init__(self) -> None:\n",
        "        self.conexao: sqlite3.Connection = None\n",
        "        self.cursor: sqlite3.Cursor = None\n",
        "\n",
        "    # -----------------------------------------------------------------------\n",
        "    def executar_sql(self, sql: str, parametros: tuple = ()) -> sqlite3.Cursor:\n",
        "        \"\"\"\n",
        "        Método que executa as instruções SQL\n",
        "        Retorna um cursor com o resultado do banco de dados\n",
        "        \"\"\"\n",
        "        # Cria uma conexão com o arquivo de banco de dados\n",
        "        with sqlite3.connect(\"./meu_database.db\", check_same_thread=True) as self.conexao:\n",
        "            # Obter um cursor a partir da conexão\n",
        "            self.cursor = self.conexao.cursor()\n",
        "            # Executa a instrução sql com os parâmetros fornecidos\n",
        "            self.cursor.execute(sql, parametros)\n",
        "            # Confirma a alteração de estado do banco de dados\n",
        "            self.conexao.commit()\n",
        "        # Retorna o cursor contendo o resultado da execução sql/parâmetros\n",
        "        return self.cursor"
      ]
    },
    {
      "cell_type": "code",
      "source": [
        "dbs = Database()"
      ],
      "metadata": {
        "id": "Saq_tcigoBpb"
      },
      "execution_count": null,
      "outputs": []
    },
    {
      "cell_type": "markdown",
      "source": [
        "## <font color='ocean'>__CRIAR TABELAS__</font>\n",
        "\n",
        "Documentação: https://www.sqlite.org/lang_createtable.html"
      ],
      "metadata": {
        "id": "P1rAolM5sHep"
      }
    },
    {
      "cell_type": "markdown",
      "source": [
        "### <font color='orange'>**Criar tabela data_categoria**</font>"
      ],
      "metadata": {
        "id": "_ijkpSXttTey"
      }
    },
    {
      "cell_type": "code",
      "source": [
        "sql = \"\"\"\n",
        "    CREATE TABLE data_categoria (\n",
        "        id INTEGER PRIMARY KEY,\n",
        "        descricao TEXT,\n",
        "        categoria TEXT UNIQUE\n",
        "    );\n",
        "\"\"\"\n",
        "\n",
        "dbs.executar_sql(sql)"
      ],
      "metadata": {
        "id": "CFd7tqWJtTez"
      },
      "execution_count": null,
      "outputs": []
    },
    {
      "cell_type": "markdown",
      "source": [
        "### <font color='orange'>**Criar tabela data**</font>"
      ],
      "metadata": {
        "id": "XWlHZ7MLsmPn"
      }
    },
    {
      "cell_type": "code",
      "source": [
        "sql = \"\"\"\n",
        "    CREATE TABLE IF NOT EXISTS data (\n",
        "        id INTEGER PRIMARY KEY,\n",
        "        data TEXT UNIQUE,\n",
        "        data_categoria_id INTEGER,\n",
        "        FOREIGN KEY(data_categoria_id) REFERENCES data_categoria(id)\n",
        "    );\n",
        "\"\"\"\n",
        "\n",
        "dbs.executar_sql(sql)"
      ],
      "metadata": {
        "id": "iNyJJKdGokum"
      },
      "execution_count": null,
      "outputs": []
    },
    {
      "cell_type": "markdown",
      "source": [
        "### <font color='orange'>**Criar tabela evento_categoria**</font>"
      ],
      "metadata": {
        "id": "5K35FyeNt4Yi"
      }
    },
    {
      "cell_type": "code",
      "source": [
        "sql = \"\"\"\n",
        "CREATE TABLE IF NOT EXISTS evento_categoria (\n",
        "    id INTEGER PRIMARY KEY,\n",
        "    categoria TEXT UNIQUE,\n",
        "    descricao TEXT\n",
        ");\n",
        "\"\"\"\n",
        "\n",
        "dbs.executar_sql(sql)"
      ],
      "metadata": {
        "id": "LXbHM2iet4Yi"
      },
      "execution_count": null,
      "outputs": []
    },
    {
      "cell_type": "markdown",
      "source": [
        "### <font color='orange'>**Criar tabela evento**</font>"
      ],
      "metadata": {
        "id": "6ctPq05ZtStz"
      }
    },
    {
      "cell_type": "code",
      "source": [
        "sql = \"\"\"\n",
        "    CREATE TABLE evento (\n",
        "        id INTEGER PRIMARY KEY,\n",
        "        descricao TEXT,\n",
        "        evento TEXT,\n",
        "        evento_categoria_id TEXT,\n",
        "        FOREIGN KEY(evento_categoria_id) REFERENCES evento_categoria(id)\n",
        "    );\n",
        "\"\"\"\n",
        "\n",
        "dbs.executar_sql(sql)"
      ],
      "metadata": {
        "id": "VWimpdgItSt0"
      },
      "execution_count": null,
      "outputs": []
    },
    {
      "cell_type": "markdown",
      "source": [
        "### <font color='orange'>**Criar tabela evento_data**</font>"
      ],
      "metadata": {
        "id": "25rVobMAtTzr"
      }
    },
    {
      "cell_type": "code",
      "source": [
        "sql = \"\"\"\n",
        "    CREATE TABLE evento_data (\n",
        "        data_id INTEGER,\n",
        "        evento_id INTEGER,\n",
        "        PRIMARY KEY(data_id, evento_id),\n",
        "        FOREIGN KEY (data_id) REFERENCES data(id),\n",
        "        FOREIGN KEY (evento_id) REFERENCES evento(id)\n",
        "    );\n",
        "\"\"\"\n",
        "\n",
        "dbs.executar_sql(sql)"
      ],
      "metadata": {
        "id": "y_XvFdCNtTzr"
      },
      "execution_count": null,
      "outputs": []
    },
    {
      "cell_type": "markdown",
      "source": [
        "## <font color='ocean'>__LISTAGEM E ESQUEMAS DE TABELAS__</font>\n",
        "\n",
        "Documentação: https://sqlite.org/schematab.html"
      ],
      "metadata": {
        "id": "gqd5IeqewmyR"
      }
    },
    {
      "cell_type": "markdown",
      "source": [
        "### <font color='orange'>**Listar nomes das tabelas**</font>"
      ],
      "metadata": {
        "id": "d5R2-Hrtt42c"
      }
    },
    {
      "cell_type": "code",
      "source": [
        "sql = \"\"\"\n",
        "    SELECT\n",
        "        name\n",
        "    FROM\n",
        "        sqlite_schema\n",
        "    WHERE\n",
        "        type='table'\n",
        "    ORDER BY\n",
        "        name;\n",
        "\"\"\"\n",
        "\n",
        "for i in dbs.executar_sql(sql):\n",
        "    print(i[0])"
      ],
      "metadata": {
        "id": "avni0Vo3t42d"
      },
      "execution_count": null,
      "outputs": []
    },
    {
      "cell_type": "markdown",
      "source": [
        "### <font color='orange'>**Mostrar esquema de tabela**</font>"
      ],
      "metadata": {
        "id": "rd5OPRAnsld5"
      }
    },
    {
      "cell_type": "code",
      "source": [
        "sql = \"\"\"\n",
        "    SELECT\n",
        "        sql\n",
        "    FROM\n",
        "        sqlite_schema\n",
        "    WHERE\n",
        "        name='data'\n",
        "\"\"\"\n",
        "\n",
        "for i in dbs.executar_sql(sql):\n",
        "    print(i[0])"
      ],
      "metadata": {
        "id": "8gotBUv3pCTo"
      },
      "execution_count": null,
      "outputs": []
    },
    {
      "cell_type": "markdown",
      "source": [
        "## <font color='ocean'>__EXCLUSÃO DE TABELAS__</font>\n",
        "\n",
        "Documentação: https://www.sqlite.org/lang_droptable.html"
      ],
      "metadata": {
        "id": "hXUAZvlE8acX"
      }
    },
    {
      "cell_type": "markdown",
      "source": [
        "### <font color='orange'>**Excluir tabela data**</font>"
      ],
      "metadata": {
        "id": "DjLcQUh28acY"
      }
    },
    {
      "cell_type": "code",
      "source": [
        "sql = \"\"\"\n",
        "    DROP TABLE IF EXISTS data;\n",
        "\"\"\"\n",
        "\n",
        "for i in dbs.executar_sql(sql):\n",
        "    print(i[0])"
      ],
      "metadata": {
        "id": "WG2B7RD18acY"
      },
      "execution_count": null,
      "outputs": []
    },
    {
      "cell_type": "markdown",
      "source": [
        "# <font color=\"ocean\" align='center'>**ATIVIDADE DE PESQUISA E REALIZAÇÃO DE EXERCÍCIOS**</font>\n",
        "# <font color=\"yellow\" align='center'>**ATIVIDADE DE PESQUISA E REALIZAÇÃO DE EXERCÍCIOS**</font>\n",
        "# <font color=\"blue\" align='center'>**ATIVIDADE DE PESQUISA E REALIZAÇÃO DE EXERCÍCIOS**</font>"
      ],
      "metadata": {
        "id": "MTM3qP_gICTC"
      }
    },
    {
      "cell_type": "markdown",
      "source": [
        "## <font color='ocean'>__INSERT - Inserção de registros em uma tabela__</font>\n",
        "\n",
        "Documentação:"
      ],
      "metadata": {
        "id": "NybLJgso_GtT"
      }
    },
    {
      "cell_type": "markdown",
      "source": [
        "### <font color='orange'>**Inserir registros em todas as tabelas do banco de dados**</font>\n",
        "\n",
        "* 5 registros em evento_categoria\n",
        "* 5 registros em data_categoria\n",
        "* 5 registros em evento\n",
        "* 15 registros em data\n",
        "* 15 registros em data_evento"
      ],
      "metadata": {
        "id": "9CamG2mS_GtU"
      }
    },
    {
      "cell_type": "code",
      "source": [
        "# 5 registros em evento_categoria\n",
        "\n"
      ],
      "metadata": {
        "id": "kh6Hnzsf_GtU"
      },
      "execution_count": null,
      "outputs": []
    },
    {
      "cell_type": "code",
      "source": [
        "# 5 registros em data_categoria\n",
        "\n"
      ],
      "metadata": {
        "id": "jHznDquqJVpE"
      },
      "execution_count": null,
      "outputs": []
    },
    {
      "cell_type": "code",
      "source": [
        "#5 registros em evento\n",
        "\n"
      ],
      "metadata": {
        "id": "_MiUomf8JX4U"
      },
      "execution_count": null,
      "outputs": []
    },
    {
      "cell_type": "code",
      "source": [
        "# 15 registros em data\n",
        "\n"
      ],
      "metadata": {
        "id": "i3yFmRmQJdAN"
      },
      "execution_count": null,
      "outputs": []
    },
    {
      "cell_type": "code",
      "source": [
        "# 15 registros em data_evento\n",
        "\n"
      ],
      "metadata": {
        "id": "lLCfi1qqK2qc"
      },
      "execution_count": null,
      "outputs": []
    },
    {
      "cell_type": "markdown",
      "source": [
        "## <font color='ocean'>__SELECT - Seleção de registros de uma tabela__</font>\n",
        "\n",
        "Documentação:"
      ],
      "metadata": {
        "id": "mHR94VAT_knD"
      }
    },
    {
      "cell_type": "markdown",
      "source": [
        "### <font color='orange'>**Selecionar registro de uma tabela**</font>\n",
        "\n",
        "* Execute uma instrução de select para todas as tabelas"
      ],
      "metadata": {
        "id": "YswJZmdI_knE"
      }
    },
    {
      "cell_type": "code",
      "source": [
        "# Selecionar registros de data:\n",
        "\n"
      ],
      "metadata": {
        "id": "WrEodbFn_knE"
      },
      "execution_count": null,
      "outputs": []
    },
    {
      "cell_type": "code",
      "source": [
        "# Selecionar registros de evento:\n",
        "\n"
      ],
      "metadata": {
        "id": "tlaMoRwRJ5ju"
      },
      "execution_count": null,
      "outputs": []
    },
    {
      "cell_type": "code",
      "source": [
        "# Selecionar registros de data_categoria:\n",
        "\n"
      ],
      "metadata": {
        "id": "OsF-kZpYJ7BW"
      },
      "execution_count": null,
      "outputs": []
    },
    {
      "cell_type": "code",
      "source": [
        "# Selecionar registros de evento_categoria:\n",
        "\n"
      ],
      "metadata": {
        "id": "61asWtAhJ7PZ"
      },
      "execution_count": null,
      "outputs": []
    },
    {
      "cell_type": "markdown",
      "source": [
        "## <font color='ocean'>__UPDATE - Atualização de registros de uma tabela__</font>\n",
        "\n",
        "Documentação:"
      ],
      "metadata": {
        "id": "GSyXXeF9_5W1"
      }
    },
    {
      "cell_type": "markdown",
      "source": [
        "### <font color='orange'>**Atualizar algum registro das tabelas**</font>"
      ],
      "metadata": {
        "id": "9uMG7_aZ_5W1"
      }
    },
    {
      "cell_type": "code",
      "source": [
        "# Atualizar registros de data:\n",
        "\n"
      ],
      "metadata": {
        "id": "itRtOe3pKYLF"
      },
      "execution_count": null,
      "outputs": []
    },
    {
      "cell_type": "code",
      "source": [
        "# Atualizar registros de evento:\n",
        "\n"
      ],
      "metadata": {
        "id": "RdQq6EbnKYLG"
      },
      "execution_count": null,
      "outputs": []
    },
    {
      "cell_type": "code",
      "source": [
        "# Atualizar registros de data_categoria:\n",
        "\n"
      ],
      "metadata": {
        "id": "3rfyleQDKYLG"
      },
      "execution_count": null,
      "outputs": []
    },
    {
      "cell_type": "code",
      "source": [
        "# Atualizar registros de evento_categoria:\n",
        "\n"
      ],
      "metadata": {
        "id": "a-cEZJlcKYLG"
      },
      "execution_count": null,
      "outputs": []
    },
    {
      "cell_type": "markdown",
      "source": [
        "## <font color='ocean'>__DELETE - Deletar registros das tabelas__</font>\n",
        "\n",
        "Documentação:"
      ],
      "metadata": {
        "id": "o8DQLmhXLTQV"
      }
    },
    {
      "cell_type": "markdown",
      "source": [
        "### <font color='orange'>**Deletar algum registro das tabelas**</font>"
      ],
      "metadata": {
        "id": "tpO7FtPuLTQW"
      }
    },
    {
      "cell_type": "code",
      "source": [
        "# Deletar registro de data:\n",
        "\n"
      ],
      "metadata": {
        "id": "MRo_4KdVLTQW"
      },
      "execution_count": null,
      "outputs": []
    },
    {
      "cell_type": "code",
      "source": [
        "# Deletar registro de evento:\n",
        "\n"
      ],
      "metadata": {
        "id": "AOnMohR4LTQW"
      },
      "execution_count": null,
      "outputs": []
    },
    {
      "cell_type": "code",
      "source": [
        "# Deletar registro de data_categoria:\n",
        "\n"
      ],
      "metadata": {
        "id": "c-vRWrVwLTQW"
      },
      "execution_count": null,
      "outputs": []
    },
    {
      "cell_type": "code",
      "source": [
        "# Deletar registro de evento_categoria:\n",
        "\n"
      ],
      "metadata": {
        "id": "ysrgUOczLTQW"
      },
      "execution_count": null,
      "outputs": []
    }
  ]
}