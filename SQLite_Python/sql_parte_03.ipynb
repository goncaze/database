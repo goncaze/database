{
  "nbformat": 4,
  "nbformat_minor": 0,
  "metadata": {
    "colab": {
      "provenance": [],
      "collapsed_sections": [
        "25A_ykte7yir",
        "P1rAolM5sHep",
        "_ijkpSXttTey",
        "XWlHZ7MLsmPn",
        "5K35FyeNt4Yi",
        "6ctPq05ZtStz",
        "25rVobMAtTzr",
        "gqd5IeqewmyR",
        "d5R2-Hrtt42c",
        "rd5OPRAnsld5",
        "hXUAZvlE8acX",
        "DjLcQUh28acY"
      ],
      "include_colab_link": true
    },
    "kernelspec": {
      "name": "python3",
      "display_name": "Python 3"
    },
    "language_info": {
      "name": "python"
    }
  },
  "cells": [
    {
      "cell_type": "markdown",
      "metadata": {
        "id": "view-in-github",
        "colab_type": "text"
      },
      "source": [
        "<a href=\"https://colab.research.google.com/github/goncaze/database/blob/main/SQLite_Python/select_database_livro.ipynb\" target=\"_parent\"><img src=\"https://colab.research.google.com/assets/colab-badge.svg\" alt=\"Open In Colab\"/></a>"
      ]
    },
    {
      "cell_type": "markdown",
      "source": [
        "---\n",
        "# <font color='ocean' align='center'>__SELECT com SQLite3 and Built-in Aggregate Functions__</font>\n",
        "---\n",
        "\n",
        "### Neste notebook iremos aprender mais a respeito da instrução SELECT e para isto usaremos um novo banco de dados denominado de livro_db.\n",
        "\n",
        "* Documentação: https://sqlite.org/lang_select.html\n",
        "* Documentação: https://sqlite.org/lang_aggfunc.html\n",
        "* Documentação: https://docs.python.org/pt-br/3.12/library/sqlite3.html\n",
        "<br><br>\n"
      ],
      "metadata": {
        "id": "25A_ykte7yir"
      }
    },
    {
      "cell_type": "code",
      "execution_count": null,
      "metadata": {
        "id": "pz2vUHZym6DI"
      },
      "outputs": [],
      "source": [
        "import sqlite3\n",
        "\n",
        "\n",
        "class Database:\n",
        "\n",
        "    def __init__(self) -> None:\n",
        "        self.conexao: sqlite3.Connection = None\n",
        "        self.cursor: sqlite3.Cursor = None\n",
        "\n",
        "    # -----------------------------------------------------------------------\n",
        "    def executar_sql(self, sql: str, parametros: tuple = ()) -> sqlite3.Cursor:\n",
        "        \"\"\"\n",
        "        Método que executa as instruções SQL\n",
        "        Retorna um cursor com o resultado do banco de dados\n",
        "        \"\"\"\n",
        "        # Cria uma conexão com o arquivo de banco de dados\n",
        "        with sqlite3.connect(\"./livros_db.db\", check_same_thread=True) as self.conexao:\n",
        "            # Obter um cursor a partir da conexão\n",
        "            self.cursor = self.conexao.cursor()\n",
        "            # Executa a instrução sql com os parâmetros fornecidos\n",
        "            self.cursor.execute(sql, parametros)\n",
        "            # Confirma a alteração de estado do banco de dados\n",
        "            self.conexao.commit()\n",
        "        # Retorna o cursor contendo o resultado da execução sql/parâmetros\n",
        "        return self.cursor"
      ]
    },
    {
      "cell_type": "code",
      "source": [
        "dbs = Database()"
      ],
      "metadata": {
        "id": "Saq_tcigoBpb"
      },
      "execution_count": null,
      "outputs": []
    },
    {
      "cell_type": "markdown",
      "source": [
        "## <font color='ocean'>__CRIAR TABELAS__</font>\n",
        "\n",
        "Documentação: https://www.sqlite.org/lang_createtable.html"
      ],
      "metadata": {
        "id": "P1rAolM5sHep"
      }
    },
    {
      "cell_type": "markdown",
      "source": [
        "### <font color='orange'>**Criar tabelas**</font>\n",
        "+ Apenas execute o comando sql a seguir:"
      ],
      "metadata": {
        "id": "_ijkpSXttTey"
      }
    },
    {
      "cell_type": "code",
      "source": [
        "sql1 = \"\"\"\n",
        "    CREATE TABLE IF NOT EXISTS cliente (\n",
        "        cod_cliente INTEGER PRIMARY KEY,\n",
        "        nome TEXT,\n",
        "        telefone1 TEXT,\n",
        "        telefone2 TEXT,\n",
        "        rua TEXT,\n",
        "        bairro TEXT,\n",
        "        cidade TEXT,\n",
        "        estado TEXT,\n",
        "        email TEXT\n",
        "    );\n",
        "\"\"\"\n",
        "\n",
        "sql2 = \"\"\"\n",
        "    CREATE TABLE IF NOT EXISTS livro (\n",
        "        cod_livro INTEGER PRIMARY KEY,\n",
        "        cod_editora INTEGER,\n",
        "        valor REAL,\n",
        "        catgoria TEXT,\n",
        "        titulo TEXT,\n",
        "        nome_autor TEXT,\n",
        "        ano_publicacao INTEGER,\n",
        "        ISBN TEXT,\n",
        "        FOREIGN KEY(cod_editora) REFERENCES editora(cod_editora)\n",
        "    );\n",
        "\"\"\"\n",
        "\n",
        "sql3 = \"\"\"\n",
        "    CREATE TABLE IF NOT EXISTS estoque (\n",
        "        cod_livro INTEGER PRIMARY KEY,\n",
        "        qtde_estoque INTEGER,\n",
        "        FOREIGN KEY(cod_livro) REFERENCES livro(cod_livro)\n",
        "    );\n",
        "\"\"\"\n",
        "\n",
        "sql4 = \"\"\"\n",
        "    CREATE TABLE IF NOT EXISTS editora (\n",
        "        cod_editora INTEGER PRIMARY KEY,\n",
        "        telefone1 TEXT,\n",
        "        telefone2 TEXT,\n",
        "        nome TEXT,\n",
        "        email TEXT,\n",
        "        consultor_vendas TEXT\n",
        "    );\n",
        "\"\"\"\n",
        "\n",
        "sql5 = \"\"\"\n",
        "    CREATE TABLE IF NOT EXISTS pedido (\n",
        "        cod_pedido INTEGER PRIMARY KEY,\n",
        "        cod_cliente INTEGER,\n",
        "        Data date,\n",
        "        valor_pedido REAL,\n",
        "        FOREIGN KEY(cod_cliente) REFERENCES cliente(cod_cliente)\n",
        "    );\n",
        "\"\"\"\n",
        "\n",
        "sql6 = \"\"\"\n",
        "    CREATE TABLE IF NOT EXISTS itens_pedido (\n",
        "        cod_pedido INTEGER,\n",
        "        cod_livro INTEGER,\n",
        "        quantidade INTEGER,\n",
        "        valor_unitario REAL,\n",
        "        PRIMARY KEY (cod_livro, cod_pedido),\n",
        "        FOREIGN KEY(cod_pedido) REFERENCES pedido(cod_pedido),\n",
        "        FOREIGN KEY(cod_livro) REFERENCES livro(cod_livro)\n",
        "    );\n",
        "\"\"\"\n",
        "\n",
        "lista_sql = [sql1, sql2, sql3, sql4, sql5, sql6]\n",
        "\n",
        "for sql in lista_sql:\n",
        "    dbs.executar_sql(sql)\n",
        "\n"
      ],
      "metadata": {
        "id": "CFd7tqWJtTez"
      },
      "execution_count": null,
      "outputs": []
    },
    {
      "cell_type": "markdown",
      "source": [
        "## <font color='ocean'>__LISTAR TABELAS__</font>"
      ],
      "metadata": {
        "id": "f5sy9-m-tWlP"
      }
    },
    {
      "cell_type": "code",
      "source": [
        "sql = \" SELECT name FROM sqlite_schema WHERE type='table' ORDER BY name\"\n",
        "\n",
        "for i in dbs.executar_sql(sql):\n",
        "    print(i[0])"
      ],
      "metadata": {
        "id": "fO9_k6MbyWxy"
      },
      "execution_count": null,
      "outputs": []
    },
    {
      "cell_type": "markdown",
      "source": [
        "## <font color='ocean'>__INSERÇÃO DE DADOS GERADOS PELO CHATGPT__</font>"
      ],
      "metadata": {
        "id": "zo5_kRsZzn5k"
      }
    },
    {
      "cell_type": "code",
      "source": [
        "sql1 = \"\"\"\n",
        "INSERT INTO cliente (nome, telefone1, telefone2, rua, bairro, cidade, estado, email) VALUES\n",
        "  (1, 'Miguel Duarte', '41 9569 1856', '11 2083-2458', 'Colônia Nascimento, 12', 'Silveira', 'Azevedo do Galho', 'TO', 'ribeiroisabella@freitas.net'),\n",
        "  (2, 'Thiago Cardoso', '+55 71 4287-4945', '31 3459-2987', 'Feira Ana Lívia Fogaça, 1', 'São Salvador', 'Ferreira do Oeste', 'MG', 'pedrocardoso@cavalcanti.com'),\n",
        "  (3, 'Dr. Paulo Ribeiro', '(061) 9204 6314', '+55 (031) 4552-8599', 'Parque de Viana', 'Gameleira', 'Gonçalves', 'GO', 'caua56@uol.com.br'),\n",
        "  (4, 'Nicolas Moreira', '(031) 1297-8357', '+55 41 0948-9208', 'Vale da Mata, 681', 'Salgado Filho', 'Alves do Sul', 'PE', 'maria-eduardacampos@lima.org'),\n",
        "  (5, 'Dr. Henrique Nunes', '(084) 4990 4430', '+55 61 6292 8461', 'Loteamento de Cardoso, 543', 'Vila Aeroporto', 'Duarte de Cardoso', 'TO', 'ana-laura95@ig.com.br'),\n",
        "  (6, 'Alícia Silveira', '81 4486-0350', '11 2745 9095', 'Pátio Luigi Lopes, 73', 'Vila Antena', 'Azevedo', 'PB', 'crocha@martins.net'),\n",
        "  (7, 'Ian Dias', '(061) 5925-0574', '81 6853-9459', 'Condomínio de Costa, 44', 'Vila Barragem Santa Lúcia', 'Nunes de Minas', 'MG', 'clarada-mota@monteiro.com'),\n",
        "  (8, 'Carolina da Paz', '+55 (084) 1762 1752', '(061) 8534-6985', 'Núcleo Yuri da Conceição, 599', 'Conjunto Paulo Vi', 'Rocha Alegre', 'AP', 'peixotoenzo@hotmail.com'),\n",
        "  (9, 'Davi Luiz da Cruz', '41 6103-4975', '61 9895 7041', 'Praia de Caldeira, 932', 'Barão Homem De Melo 3ª Seção', 'Barbosa', 'SE', 'ymartins@gmail.com'),\n",
        "  (10, 'Ana Julia da Rosa', '31 0014-4980', '0500 689 3071', 'Núcleo de Martins, 201', 'Castanheira', 'Sales da Praia', 'MS', 'henrique49@fernandes.br'),\n",
        "  (11, 'João Gabriel Cardoso', '+55 51 4590 0850', '(041) 4565 6360', 'Jardim da Luz, 87', 'Maria Virgínia', 'Costela', 'MA', 'qrocha@bol.com.br'),\n",
        "  (12, 'Arthur da Luz', '+55 (084) 0840 7849', '+55 (041) 5428-0334', 'Conjunto Campos, 87', 'Olhos Dágua', 'da Cruz de Cardoso', 'RO', 'barbosafelipe@moura.br'),\n",
        "  (13, 'Henrique Carvalho', '41 7073 8436', '41 0990-6270', 'Estação Costa, 53', 'Santa Amelia', 'da Cruz', 'GO', 'anavieira@bol.com.br'),\n",
        "  (14, 'Sr. Breno da Cunha', '+55 71 8703-1294', '11 8605-2992', 'Campo de Martins, 60', 'São Francisco', 'Moraes de Azevedo', 'TO', 'da-pazsophie@hotmail.com'),\n",
        "  (15, 'Sr. João Guilherme Caldeira', '(041) 9665-0088', '+55 21 5073-3298', 'Vila de Ramos, 48', 'Barreiro', 'Martins', 'RS', 'fsantos@cardoso.br'),\n",
        "  (16, 'Larissa Mendes', '+55 (021) 0115 7821', '+55 31 1801 6496', 'Feira Maitê Barros, 53', 'São Cristóvão', 'Alves', 'SC', 'fferreira@hotmail.com'),\n",
        "  (17, 'Laura Costa', '+55 81 6495 4473', '41 0442 2829', 'Residencial Nina Gonçalves, 589', 'Jardim Vitoria', 'Duarte de Rodrigues', 'PI', 'pedro-henriquegomes@gmail.com'),\n",
        "  (18, 'Pedro Lucas Cardoso', '(051) 9555 4816', '+55 21 0453-6491', 'Rua de da Conceição, 10', 'São Geraldo', 'Fogaça', 'AM', 'qda-rosa@hotmail.com'),\n",
        "  (19, 'Vitor Gabriel Gomes', '(061) 6315-9201', '0900-483-1881', 'Parque Levi da Cunha, 54', 'Dom Joaquim', 'Almeida do Campo', 'PR', 'larissa18@ig.com.br'),\n",
        "  (20, 'Sra. Agatha Porto', '+55 (061) 6714 1215', '+55 84 9087 5300', 'Viaduto João Lucas da Luz, 7', 'Santo André', 'Porto Alegre', 'ES', 'pedro-henrique16@farias.com'),\n",
        "  (21, 'Renan Alves', '61 7801 8827', '+55 (041) 0412 5877', 'Jardim de Monteiro, 66', 'Caetano Furquim', 'Teixeira', 'RS', 'maria-ceciliamoraes@gmail.com'),\n",
        "  (22, 'Gustavo Henrique Lopes', '(061) 6666 2927', '41 5923 9962', 'Via Pietra Moraes, 68', 'Vila Da Amizade', 'da Mata do Campo', 'DF', 'limanathan@correia.com'),\n",
        "  (23, 'Maria da Conceição', '+55 (021) 8490 5939', '(041) 8585-9759', 'Chácara Sales, 29', 'Vila Paquetá', 'Freitas Verde', 'PI', 'gabrielcorreia@hotmail.com'),\n",
        "  (24, 'Raul Carvalho', '+55 (041) 4361 8121', '(084) 3333 3802', 'Condomínio de Cavalcanti, 75', 'Vila Minaslandia', 'das Neves do Sul', 'PA', 'raquelcosta@bol.com.br'),\n",
        "  (25, 'Sarah Mendes', '+55 84 3283 5010', '84 4042 6992', 'Alameda de da Mata, 5', 'Vila Vista Alegre', 'Nunes', 'RS', 'vitorcampos@uol.com.br'),\n",
        "  (26, 'Alice Oliveira', '+55 81 6294 7372', '+55 21 1581-7157', 'Parque de da Rocha', 'Bom Jesus', 'Rocha', 'MG', 'cunhalarissa@uol.com.br'),\n",
        "  (27, 'Fernando Melo', '(011) 3006 0119', '+55 (061) 2926-6870', 'Ladeira Leonardo Campos, 72', 'Salgado Filho', 'Barbosa', 'PR', 'araujoluiz-otavio@moraes.net'),\n",
        "  (28, 'Vitor Gabriel Oliveira', '(061) 2484-5101', '(031) 0908-6393', 'Morro de Fernandes', 'Novo São Lucas', 'Castro', 'SP', 'ana-vitoria65@uol.com.br'),\n",
        "  (29, 'Matheus das Neves', '+55 (011) 5871-6471', '(031) 8114 2378', 'Conjunto da Cruz', 'São Damião', 'Rocha', 'MG', 'ana-julia78@pires.org'),\n",
        "  (30, 'Srta. Sabrina da Luz', '+55 (061) 0320-2500', '41 4789-6409', 'Rua Cardoso, 5', 'Vila Independencia 3ª Seção', 'Almeida', 'MG', 'leandromartins@jesus.com'),\n",
        "  (31, 'Ana Laura Araújo', '+55 (081) 0603-8650', '21 2954 1200', 'Pátio de Moraes, 579', 'Conjunto Califórnia Ii', 'Fernandes', 'RR', 'ygoncalves@rezende.br'),\n",
        "  (32, 'Dr. João Gabriel Lopes', '0800-920-6816', '81 7821 8770', 'Loteamento Yago Costa, 38', 'Paquetá', 'Alves do Galho', 'BA', 'vitoriacavalcanti@ig.com.br'),\n",
        "  (33, 'Sabrina Peixoto', '21 0599 0276', '+55 81 9447 5573', 'Trevo Nunes, 911', 'São Jorge 2ª Seção', 'Fogaça da Prata', 'ES', 'mariasilveira@hotmail.com'),\n",
        "  (34, 'Heloísa Pereira', '(051) 7078 1139', '11 6714-6147', 'Setor Fernandes, 90', 'Maria Goretti', 'Nascimento', 'GO', 'alicianunes@yahoo.com.br'),\n",
        "  (35, 'Daniela Nogueira', '84 8041 0206', '(071) 6854 5609', 'Fazenda Correia, 80', 'Palmares', 'Gonçalves de Santos', 'ES', 'emanuellaazevedo@souza.com'),\n",
        "  (36, 'João Miguel Fogaça', '0500 550 4195', '+55 21 5448 0811', 'Sítio de Sales, 3', 'Corumbiara', 'das Neves de Nascimento', 'PA', 'milenaporto@teixeira.com'),\n",
        "  (37, 'Raul Alves', '+55 (051) 0337-9319', '+55 (031) 9678 8234', 'Ladeira Ramos, 71', 'Bairro Das Indústrias Ii', 'Almeida Verde', 'PI', 'peixotomiguel@yahoo.com.br'),\n",
        "  (38, 'Srta. Sofia Moura', '(051) 2434 7655', '(021) 6055 0016', 'Jardim de Nunes, 73', 'Jaqueline', 'Cardoso das Pedras', 'PA', 'kvieira@campos.net'),\n",
        "  (39, 'Pedro Henrique Gonçalves', '31 3643-1811', '0800 607 3204', 'Lago de Gonçalves, 69', 'Sport Club', 'Rodrigues', 'PE', 'maysacunha@hotmail.com'),\n",
        "  (40, 'Thiago Santos', '51 4360 4019', '84 1717 3221', 'Feira Ana Lívia Araújo, 95', 'Vila Inestan', 'Melo', 'AM', 'stella33@pereira.com'),\n",
        "  (41, 'Lavínia da Rosa', '0300-288-7868', '+55 (061) 8464-1893', 'Núcleo Cardoso, 3', 'Lourdes', 'Pires', 'MG', 'vinicius02@hotmail.com'),\n",
        "  (42, 'Dra. Júlia Silveira', '+55 (084) 5005-7570', '0800-403-2964', 'Campo de Caldeira, 31', 'Centro', 'Rodrigues do Oeste', 'CE', 'camposamanda@rocha.br'),\n",
        "  (43, 'Isabelly da Mota', '41 1285-1598', '(011) 8107 9236', 'Loteamento de Souza', 'Vila Maria', 'Pinto de Gomes', 'RN', 'mgoncalves@yahoo.com.br'),\n",
        "  (44, 'Benício da Conceição', '+55 41 2931-2289', '(081) 9986-3044', 'Distrito Cardoso, 87', 'Acaiaca', 'Freitas das Pedras', 'MG', 'qramos@porto.com'),\n",
        "  (45, 'Luigi Pires', '31 2158 3968', '(021) 0152-2315', 'Estrada de da Luz, 5', 'Cabana Do Pai Tomás', 'Rocha', 'DF', 'henrique05@gmail.com'),\n",
        "  (46, 'Juan Teixeira', '51 2497 7347', '+55 21 9565-8928', 'Favela de Teixeira, 60', 'Vila Pilar', 'Pinto de Goiás', 'CE', 'zpereira@uol.com.br'),\n",
        "  (47, 'Caroline Martins', '(011) 7412 7419', '(041) 7648-7831', 'Alameda Caio Nogueira', 'Estrela', 'Cavalcanti', 'RO', 'peixotovicente@campos.br'),\n",
        "  (48, 'Maria Clara Castro', '(021) 7140 6418', '(081) 2931 1614', 'Esplanada de Ribeiro, 49', 'Frei Leopoldo', 'Ramos de Monteiro', 'MG', 'maria-alice80@yahoo.com.br'),\n",
        "  (49, 'Maria Sophia Ribeiro', '(061) 3562 9979', '+55 (011) 8684-4025', 'Avenida Emanuel das Neves, 59', 'Vila Madre Gertrudes 4ª Seção', 'Costela de Cavalcanti', 'PR', 'nicolasmelo@cunha.org'),\n",
        "  (50, 'Milena Carvalho', '(071) 8686 0308', '+55 84 2696-8221', 'Campo Azevedo, 74', 'Conjunto Capitão Eduardo', 'Nascimento da Prata', 'DF', 'correianatalia@ig.com.br'),\n",
        "  (51, 'Alice Gonçalves', '41 4285 7284', '+55 (061) 0342 5733', 'Favela Martins, 73', 'Vila Satélite', 'Rezende do Amparo', 'MT', 'sarah58@hotmail.com'),\n",
        "  (52, 'Ana Carolina Moreira', '+55 51 3926 6005', '+55 84 9204-4486', 'Vila Campos', 'Cidade Jardim', 'Mendes', 'GO', 'avieira@correia.com'),\n",
        "  (53, 'Maysa Viana', '(081) 0142 1586', '84 1972-3976', 'Parque João Lima, 8', 'Vila Nova Cachoeirinha 2ª Seção', 'Gomes Alegre', 'PR', 'peixotoluiz-miguel@aragao.br'),\n",
        "  (54, 'Joana Cardoso', '0500-802-3468', '0900-297-4457', 'Vereda Moura, 46', 'Vila Da Luz', 'Melo das Flores', 'MG', 'scorreia@gmail.com'),\n",
        "  (55, 'Natália da Conceição', '+55 (071) 0105-3280', '(051) 9571-0829', 'Conjunto Barros, 346', 'Ventosa', 'Peixoto', 'SC', 'peixotovitor-hugo@uol.com.br'),\n",
        "  (56, 'Olivia Silva', '+55 (081) 4873 4074', '+55 (071) 6382-2687', 'Conjunto Nascimento, 95', 'Vila Minaslandia', 'Duarte de Ribeiro', 'DF', 'ryan77@bol.com.br'),\n",
        "  (57, 'Lorenzo Mendes', '81 3316 8074', '(061) 3507-3203', 'Quadra Duarte, 56', 'Novo Ouro Preto', 'Aragão de Pereira', 'AP', 'heitor23@martins.com'),\n",
        "  (58, 'Daniel das Neves', '(061) 9589 0692', '0300 172 5733', 'Chácara Letícia Ramos', 'Vila Inestan', 'Campos', 'MA', 'isabellysilveira@ig.com.br'),\n",
        "  (59, 'Maitê Lima', '0900-014-5238', '+55 (061) 9315-1391', 'Fazenda de Silva, 12', 'Santa Maria', 'Rocha', 'RO', 'sda-cruz@bol.com.br'),\n",
        "  (60, 'Isabella Mendes', '+55 51 7635 1349', '+55 84 7682-7078', 'Conjunto Duarte, 20', 'Providencia', 'Nogueira', 'GO', 'bernardo93@campos.com'),\n",
        "  (61, 'Lucas Fogaça', '+55 (021) 7085 0329', '+55 (031) 6786-8264', 'Trevo da Rocha, 692', 'Novo São Lucas', 'Araújo da Praia', 'SE', 'novaespedro-lucas@cardoso.com'),\n",
        "  (62, 'Nicolas Vieira', '(071) 8586 8908', '(041) 7020 9578', 'Aeroporto Caldeira, 7', 'Coração De Jesus', 'Aragão', 'PR', 'ccaldeira@fogaca.org'),\n",
        "  (63, 'Agatha Aragão', '(071) 6280 2731', '+55 21 4447 5428', 'Esplanada Correia, 91', 'Nova Esperança', 'Vieira', 'CE', 'martinsmaria-vitoria@costa.org'),\n",
        "  (64, 'Calebe Moraes', '+55 (031) 8380-6762', '61 3819-1784', 'Via Danilo Castro, 4', 'Buraco Quente', 'Martins do Oeste', 'TO', 'fcorreia@duarte.com'),\n",
        "  (65, 'Davi Lucas Ferreira', '+55 51 5416 0127', '11 8883 2222', 'Campo Lopes, 333', 'Cachoeirinha', 'Martins', 'SP', 'ycunha@azevedo.br'),\n",
        "  (66, 'Bárbara Araújo', '71 9087 5594', '(071) 5765-2227', 'Campo Campos, 41', 'Alto Vera Cruz', 'Gonçalves de Goiás', 'MS', 'ymelo@hotmail.com'),\n",
        "  (67, 'Clara Cardoso', '(041) 4487-3669', '+55 41 4433 7003', 'Condomínio de Monteiro, 78', 'Glória', 'Pinto', 'TO', 'cauanunes@oliveira.br'),\n",
        "  (68, 'Kamilly Alves', '31 3044-0585', '+55 (051) 1806-0047', 'Sítio Ian Monteiro', 'Canaa', 'Sales', 'RN', 'jcampos@uol.com.br'),\n",
        "  (69, 'Camila Rodrigues', '+55 (084) 3309 7848', '(061) 4812 2861', 'Esplanada Carvalho, 62', 'Barão Homem De Melo 3ª Seção', 'Rezende Verde', 'RO', 'mmartins@uol.com.br'),\n",
        "  (70, 'Marcela da Conceição', '(021) 7957-9893', '21 6589-2039', 'Colônia de da Mata, 50', 'Jardim Guanabara', 'Correia de da Costa', 'BA', 'zrodrigues@rocha.br'),\n",
        "  (71, 'Vitor Carvalho', '0800-776-2909', '51 2287 3383', 'Recanto de Fogaça, 2', 'Pantanal', 'Duarte da Prata', 'AL', 'xmartins@ig.com.br'),\n",
        "  (72, 'Sr. Luiz Miguel Nunes', '+55 (031) 2582 3515', '11 8665 8323', 'Estrada Manuela Rodrigues', 'Vila Sumaré', 'da Cunha Alegre', 'MS', 'barbosajoao-miguel@gmail.com'),\n",
        "  (73, 'Isaac Costela', '61 8304 2301', '81 1465-7046', 'Feira da Cunha, 216', 'Jatobá', 'Silveira Grande', 'RS', 'peixotojoao-felipe@gmail.com'),\n",
        "  (74, 'Luiz Miguel Rocha', '+55 (011) 3236-3652', '(071) 1753-4996', 'Lago Silva, 77', 'Marieta 3ª Seção', 'da Rosa', 'MS', 'snovaes@da.com'),\n",
        "  (75, 'Nina da Rocha', '+55 81 1604 3904', '+55 51 6695 9689', 'Vale de Almeida, 9', 'Mangabeiras', 'Viana', 'PA', 'novaesmaria-clara@azevedo.br'),\n",
        "  (76, 'Maria Sophia Costa', '84 9532-5180', '21 5473-1969', 'Fazenda de Jesus, 81', 'Jardim Dos Comerciarios', 'Peixoto das Pedras', 'RS', 'leonardo39@yahoo.com.br'),\n",
        "  (77, 'Ana Luiza Ramos', '51 1650 8671', '+55 (011) 2702 6165', 'Setor de Cunha, 67', 'Buraco Quente', 'Viana', 'AP', 'marcelo14@ig.com.br'),\n",
        "  (78, 'Melissa da Mata', '11 5550 9868', '81 9978-0353', 'Rua Otávio da Costa, 204', 'Jardim Guanabara', 'da Cunha', 'MG', 'melissaazevedo@porto.br'),\n",
        "  (79, 'Sophia Rezende', '0900 202 6414', '+55 (071) 9969-0912', 'Esplanada de Gomes, 77', 'São João Batista', 'da Cunha', 'GO', 'leandro08@yahoo.com.br'),\n",
        "  (80, 'Yago Cardoso', '+55 (031) 5761 9074', '+55 81 5397-2395', 'Vale Olivia da Cruz, 44', 'Vila Dos Anjos', 'da Cruz Paulista', 'AM', 'ferreiraguilherme@ribeiro.com'),\n",
        "  (81, 'Enzo da Conceição', '0800-574-3739', '+55 41 0041 1910', 'Esplanada de da Mata, 66', 'São Marcos', 'Costa', 'MA', 'peixotoesther@gmail.com'),\n",
        "  (82, 'Ana Nogueira', '+55 71 1326 8573', '+55 41 6235-2199', 'Avenida Laís Freitas', 'Vila Madre Gertrudes 3ª Seção', 'da Luz Verde', 'ES', 'nnascimento@gmail.com'),\n",
        "  (83, 'Diogo Cavalcanti', '(051) 7462-7581', '41 2054-1038', 'Rodovia Thomas Carvalho', 'Califórnia', 'Barbosa da Serra', 'ES', 'aragaorenan@souza.br'),\n",
        "  (84, 'Theo Araújo', '84 3888 1050', '71 8935-1185', 'Alameda Julia Silveira, 59', 'Minas Brasil', 'Pires de Campos', 'SE', 'ana92@ig.com.br'),\n",
        "  (85, 'Bárbara Alves', '+55 84 8470 1076', '+55 (031) 3228-4586', 'Lagoa Pietra Monteiro, 6', 'Providencia', 'Ferreira', 'PR', 'kevin29@bol.com.br'),\n",
        "  (86, 'Rafael Martins', '+55 (081) 2437-2019', '21 1452 6128', 'Vereda Santos, 7', 'Jardim Montanhês', 'Oliveira das Pedras', 'CE', 'elisamoura@ig.com.br'),\n",
        "  (87, 'Dr. Luiz Fernando Cavalcanti', '+55 (084) 5053 1705', '+55 (084) 6464-7377', 'Conjunto de Moura, 56', 'Santo Agostinho', 'Teixeira de Dias', 'PI', 'maria-eduarda43@nunes.org'),\n",
        "  (88, 'Pedro Henrique Barros', '(031) 7404 0825', '41 7399 0463', 'Área Freitas, 76', 'Vila Paraíso', 'Fogaça', 'AC', 'viniciusfernandes@uol.com.br'),\n",
        "  (89, 'Isaac Alves', '(081) 9889 9554', '(031) 0218-4916', 'Recanto de Fogaça, 1', 'Vila Antena Montanhês', 'Sales de da Luz', 'MG', 'pereirakaique@ferreira.net'),\n",
        "  (90, 'Sra. Nicole Ferreira', '+55 11 3456 2789', '+55 21 5573 8494', 'Estrada da Rosa, 155', 'Vila Nova Gameleira 2ª Seção', 'Vieira', 'ES', 'hcosta@pinto.br'),\n",
        "  (91, 'Gabriel da Luz', '+55 71 0094-7087', '84 0879 8684', 'Estrada de Cavalcanti, 18', 'Belmonte', 'da Rocha de Minas', 'MS', 'pintomurilo@bol.com.br'),\n",
        "  (92, 'Maria Vitória Carvalho', '+55 81 0982-1720', '(051) 5615-0794', 'Quadra de Silveira, 645', 'Piraja', 'Aragão da Mata', 'DF', 'henriquesouza@moraes.br'),\n",
        "  (93, 'Maria Fernanda da Cunha', '+55 51 1095 5352', '+55 (021) 1379 2273', 'Lago Isabella Nascimento, 734', 'São Benedito', 'das Neves Verde', 'RO', 'costastephany@duarte.net'),\n",
        "  (94, 'Amanda Pereira', '+55 (031) 8692 6739', '(011) 4262 8704', 'Estação de Mendes, 1', 'Vila Fumec', 'Viana', 'AM', 'goncalveseduardo@gomes.br'),\n",
        "  (95, 'Vinicius Nunes', '+55 41 7493 1058', '+55 11 1324-7994', 'Condomínio Alexia da Paz, 796', 'Conjunto Paulo Vi', 'Aragão de Moura', 'PE', 'evelyn23@cunha.com'),\n",
        "  (96, 'Kevin Souza', '+55 81 5993 8495', '(061) 9506 6332', 'Via de Ferreira', 'Vila Mangueiras', 'Vieira Verde', 'MT', 'maria-eduardaalves@castro.br'),\n",
        "  (97, 'Amanda Pereira', '51 3752 1322', '+55 31 5317 9741', 'Núcleo Cardoso, 87', 'Jardim Do Vale', 'Lima', 'MT', 'qda-paz@duarte.br'),\n",
        "  (98, 'Letícia Castro', '+55 (031) 5860-6008', '+55 81 7705-1470', 'Avenida Maria Eduarda da Mata, 42', 'Sagrada Família', 'Ribeiro Verde', 'BA', 'melissacarvalho@sales.com'),\n",
        "  (99, 'Leandro Viana', '(081) 3469 5000', '0800 449 1934', 'Fazenda Miguel Castro, 78', 'Carlos Prates', 'Teixeira da Mata', 'AL', 'ribeiromaria-luiza@ferreira.net'),\n",
        "  (100, 'Fernando Nunes', '+55 (081) 6664 0433', '+55 41 7967-9724', 'Área Ana Clara da Rosa, 703', 'Vila Nova Gameleira 3ª Seção', 'Moraes Grande', 'AP', 'miguel81@viana.br'),\n",
        "  (101, 'Gabriel Costela', '(031) 6718 2843', '0300-782-5867', 'Passarela de da Mata, 58', 'Vila Havaí', 'Costa', 'RN', 'xnogueira@bol.com.br'),\n",
        "  (102, 'Alice Duarte', '+55 (071) 6197 9038', '0900 130 1100', 'Trevo de Jesus, 39', 'Vila Atila De Paiva', 'Caldeira', 'AL', 'sophia86@barbosa.org'),\n",
        "  (103, 'Renan Cunha', '+55 81 5449 0561', '41 9370-8393', 'Viela de Pires, 28', 'Madri', 'Rezende', 'RO', 'maria-ceciliateixeira@yahoo.com.br'),\n",
        "  (104, 'Cecília Cardoso', '(081) 0451-5319', '81 8750-8536', 'Distrito de Ramos, 67', 'Novo Glória', 'Dias', 'MA', 'fernandeslavinia@hotmail.com'),\n",
        "  (105, 'Sabrina Alves', '31 5217 7469', '+55 51 0604 4413', 'Vila Ribeiro, 8', 'Carlos Prates', 'Duarte da Serra', 'RS', 'luigi89@novaes.com'),\n",
        "  (106, 'Dr. Bernardo Souza', '11 0204-0215', '+55 21 1460-9015', 'Largo Rodrigues, 80', 'Confisco', 'Jesus', 'SE', 'coliveira@santos.com'),\n",
        "  (107, 'Pedro Miguel Santos', '+55 81 0127-5418', '(081) 8783 6829', 'Colônia Juliana Araújo, 38', 'Vila Dos Anjos', 'Pinto da Mata', 'TO', 'fogacavicente@rocha.br'),\n",
        "  (108, 'Luna da Costa', '81 5474 3543', '51 7598 8128', 'Lago Maria Vitória Rocha, 205', 'Túnel De Ibirité', 'Duarte', 'ES', 'mcardoso@ig.com.br'),\n",
        "  (109, 'Enrico Araújo', '71 8672 1365', '+55 (031) 7475 8884', 'Avenida de Peixoto, 75', 'Venda Nova', 'Rezende do Oeste', 'ES', 'pietrapeixoto@gomes.br'),\n",
        "  (110, 'Lara da Cunha', '(071) 1496 2466', '+55 (084) 7027-1982', 'Loteamento Maria Cecília Ramos, 76', 'Teixeira Dias', 'Souza', 'SE', 'zcosta@rezende.net'),\n",
        "  (111, 'Theo Cavalcanti', '+55 (061) 8888 5566', '(011) 3930 2643', 'Praia Marcelo Vieira, 62', 'Esplanada', 'da Mata do Sul', 'AC', 'marcos-vinicius85@bol.com.br'),\n",
        "  (112, 'Amanda Nogueira', '(011) 4937-7234', '31 5407-7784', 'Trevo Manuela Costa', 'Jardim Vitoria', 'Teixeira', 'AM', 'azevedokevin@melo.net'),\n",
        "  (113, 'Gustavo Nunes', '84 8501 0401', '+55 (081) 5517 8281', 'Aeroporto Nogueira, 54', 'Nova America', 'Silva', 'AP', 'nathan05@da.br'),\n",
        "  (114, 'Benjamin da Paz', '51 1838 9051', '(031) 6145 8925', 'Via Teixeira, 15', 'Jardim América', 'da Paz', 'RN', 'gsales@dias.br'),\n",
        "  (115, 'Giovanna Nascimento', '41 0904-8521', '41 3886 5187', 'Esplanada de Mendes, 3', 'Coração De Jesus', 'Moreira', 'SC', 'lorenzo60@yahoo.com.br'),\n",
        "  (116, 'Sra. Helena da Paz', '+55 71 3771-9135', '31 4605-2080', 'Residencial Souza', 'São Bento', 'Santos de Cunha', 'BA', 'joaoda-luz@moura.com'),\n",
        "  (117, 'Dra. Evelyn da Luz', '+55 (051) 1192-6648', '+55 (081) 8849-8322', 'Vila de Fogaça, 90', 'Milionario', 'da Rosa dos Dourados', 'GO', 'milenacunha@uol.com.br'),\n",
        "  (118, 'João Gabriel Rodrigues', '+55 (031) 2284-1461', '+55 51 7929 1270', 'Feira de da Costa, 580', 'Vila Copacabana', 'da Conceição', 'TO', 'pintolucca@da.net'),\n",
        "  (119, 'Nicolas Moreira', '(041) 2341-4938', '(084) 4679-0169', 'Parque de Silveira, 5', 'Barro Preto', 'Nascimento', 'RN', 'vianapedro@nogueira.com'),\n",
        "  (120, 'Maria Vitória Martins', '+55 31 9781-4056', '41 5155 0207', 'Residencial de Nogueira, 73', 'Pongelupe', 'Ribeiro', 'DF', 'qda-mata@yahoo.com.br'),\n",
        "  (121, 'João Silva', '987654321', '912345678', 'Rua das Flores', 'Centro', 'São Paulo', 'SP', 'joao.silva@email.com'),\n",
        "  (122, 'Maria Santos', '987654322', '912345679', 'Av. Paulista', 'Bela Vista', 'São Paulo', 'SP', 'maria.santos@email.com'),\n",
        "  (123, 'Pedro Oliveira', '987654323', NULL, 'Rua A', 'Jardins', 'Rio de Janeiro', 'RJ', 'pedro.oliveira@email.com'),\n",
        "  (124, 'Lucas Almeida', '987654324', '912345680', 'Rua B', 'Copacabana', 'Rio de Janeiro', 'RJ', 'lucas.almeida@email.com'),\n",
        "  (125, 'Carla Souza', '987654325', '912345681', 'Rua C', 'Leblon', 'Rio de Janeiro', 'RJ', 'carla.souza@email.com'),\n",
        "  (126, 'Rafael Lima', '987654326', NULL, 'Rua D', 'Centro', 'Belo Horizonte', 'MG', 'rafael.lima@email.com'),\n",
        "  (127, 'Juliana Pereira', '987654327', '912345682', 'Rua E', 'Savassi', 'Belo Horizonte', 'MG', 'juliana.pereira@email.com'),\n",
        "  (128, 'Renato Costa', '987654328', '912345683', 'Rua F', 'Centro', 'Curitiba', 'PR', 'renato.costa@email.com'),\n",
        "  (129, 'Beatriz Barros', '987654329', '912345684', 'Rua G', 'Batel', 'Curitiba', 'PR', 'beatriz.barros@email.com'),\n",
        "  (130, 'Fernando Rocha', '987654330', '912345685', 'Rua H', 'Centro', 'Porto Alegre', 'RS', 'fernando.rocha@email.com'),\n",
        "  (131, 'Clara Fonseca', '987654331', '912345686', 'Rua I', 'Centro', 'São Paulo', 'SP', 'clara.fonseca@email.com'),\n",
        "  (132, 'Paulo Ribeiro', '987654332', '912345687', 'Rua J', 'Moema', 'São Paulo', 'SP', 'paulo.ribeiro@email.com'),\n",
        "  (133, 'Fernanda Moreira', '987654333', '912345688', 'Rua K', 'Vila Mariana', 'São Paulo', 'SP', 'fernanda.moreira@email.com'),\n",
        "  (134, 'Carlos Mendes', '989654321', '989123456', 'Rua dos Cajueiros', 'Cohatrac', 'São Luís', 'MA', 'carlos.mendes@email.com'),\n",
        "  (135, 'Ana Clara Sousa', '989654322', NULL, 'Rua dos Buritis', 'Calhau', 'São Luís', 'MA', 'ana.sousa@email.com'),\n",
        "  (136, 'José Lima', '989654323', '989123457', 'Avenida dos Holandeses', 'Ponta do Farol', 'São Luís', 'MA', 'jose.lima@email.com'),\n",
        "  (137, 'Fernanda Silva', '989654324', NULL, 'Rua Grande', 'Centro', 'São Luís', 'MA', 'fernanda.silva@email.com'),\n",
        "  (138, 'Ricardo Costa', '989654325', '989123458', 'Avenida Getúlio Vargas', 'Monte Castelo', 'São Luís', 'MA', 'ricardo.costa@email.com'),\n",
        "  (139, 'Raimundo Rocha', '989654326', '989123459', 'Rua do Passeio', 'Centro', 'Caxias', 'MA', 'raimundo.rocha@email.com'),\n",
        "  (140, 'Juliana Oliveira', '989654327', NULL, 'Rua das Flores', 'Centro', 'Imperatriz', 'MA', 'juliana.oliveira@email.com'),\n",
        "  (141, 'Marcos Andrade', '989654328', '989123460', 'Rua do Comércio', 'Bacuri', 'Imperatriz', 'MA', 'marcos.andrade@email.com'),\n",
        "  (142, 'Patrícia Farias', '989654329', '989123461', 'Rua do Sol', 'Centro', 'Timon', 'MA', 'patricia.farias@email.com'),\n",
        "  (143, 'Daniela Sousa', '989654330', NULL, 'Avenida Santos Dumont', 'Vila Lobão', 'Timon', 'MA', 'daniela.sousa@email.com');\n",
        "\"\"\"\n",
        "\n",
        "# dbs.executar_sql(sql1)\n",
        "\n",
        "sql2 = \"\"\"\n",
        "  INSERT INTO editora (cod_editora, telefone1, telefone2, nome, email, consultor_vendas) VALUES\n",
        "  (1, '987655432', '912346789', 'Editora Abril', 'contato@editoraabril.com', 'Fernanda Lima'),\n",
        "  (2, '987655433', '987655433', 'Editora Globo', 'contato@editoraglobo.com', 'Carlos Souza'),\n",
        "  (3, '987655434', '912346780', 'Editora Moderna', 'contato@editoramoderna.com', 'Paula Mendes'),\n",
        "  (4, '987655435', '912346781', 'Editora Saraiva', 'contato@saraiva.com', 'Marcos Silva'),\n",
        "  (5, '987655436', '912346782', 'Editora Atlas', 'contato@editoraatlas.com', 'Luciana Costa'),\n",
        "  (6, '987655437', '912346783', 'Editora FGV', 'contato@fgv.com', 'Fábio Almeida'),\n",
        "  (7, '987655438', '987655438', 'Editora Senac', 'contato@senac.com', 'Carla Menezes'),\n",
        "  (8, '987655439', '912346784', 'Editora Blucher', 'contato@blucher.com', 'Rafael Dias'),\n",
        "  (9, '987655440', '912346785', 'Editora Loyola', 'contato@loyola.com', 'Amanda Santos'),\n",
        "  (10, '987655441', '912346786', 'Editora Nobel', 'contato@nobel.com', 'Eduardo Pereira'),\n",
        "  (11, '987655442', '912346787', 'Editora Juspodivm', 'contato@juspodivm.com', 'Thiago Castro'),\n",
        "  (12, '987655443', '912346788', 'Editora Zahar', 'contato@editorazahar.com', 'Mariana Lopes'),\n",
        "  (13, '987655444', '912346789', 'Editora Contexto', 'contato@editoracontexto.com', 'Rodrigo Tavares'),\n",
        "  (14, '+55 (011) 3022-0379', '(031) 4472-1387', 'Farias', 'vsilva@nogueira.com', 'Enzo Gabriel Nunes'),\n",
        "  (15, '(031) 7247 7569', '31 8038 8395', 'da Rocha', 'catarina03@da.com', 'Dra. Emanuella Nunes'),\n",
        "  (16, '61 0432-2803', '+55 84 3182-7301', 'Rezende Teixeira - EI', 'eduarda92@carvalho.com', 'Dra. Vitória Carvalho'),\n",
        "  (17, '21 7666 0402', '(071) 9804-2817', 'Correia', 'kamillycunha@pinto.br', 'Joana Peixoto'),\n",
        "  (18, '(051) 9819-0188', '(084) 9760-9967', 'Rodrigues - ME', 'julia45@da.org', 'Maria Alice Pinto'),\n",
        "  (19, '21 8541-7653', '+55 84 5377-5861', 'Campos', 'mouraisadora@costela.net', 'Lucas Gabriel Costela'),\n",
        "  (20, '+55 (041) 1272-5198', '(081) 8758 5903', 'Teixeira', 'camila52@rodrigues.br', 'Miguel Fernandes');\n",
        "\"\"\"\n",
        "\n",
        "# dbs.executar_sql(sql2)\n",
        "\n",
        "sql3 = \"\"\"\n",
        "  INSERT INTO livro (cod_livro, cod_editora, valor, catgoria, titulo, nome_autor, ano_publicacao, ISBN) VALUES\n",
        "  (1, 1, 29.90, 'Ficção', 'A Jornada', 'Ana Costa', 2020, '978-3-16-148410-0'),\n",
        "  (2, 2, 39.90, 'Romance', 'Amor em Tempos Modernos', 'Carlos Ribeiro', 2021, '978-1-86197-876-9'),\n",
        "  (3, 3, 49.90, 'Ciência', 'O Universo', 'Maria Pereira', 2019, '978-0-545-01022-1'),\n",
        "  (4, 4, 19.90, 'Biografia', 'Minha História', 'Paulo Moreira', 2022, '978-3-598-21500-1'),\n",
        "  (5, 5, 59.90, 'Autoajuda', 'Pense Positivo', 'Fernando Santos', 2018, '978-3-16-148411-7'),\n",
        "  (6, 6, 45.00, 'Negócios', 'Empreenda!', 'Lucas Neves', 2021, '978-1-4028-9462-6'),\n",
        "  (7, 7, 34.90, 'História', 'A Segunda Guerra Mundial', 'Júlia Barros', 2020, '978-1-56619-909-4'),\n",
        "  (8, 8, 24.90, 'Geografia', 'Geografia Global', 'Leonardo Souza', 2019, '978-0-393-97322-4'),\n",
        "  (9, 9, 55.00, 'Tecnologia', 'Inteligência Artificial', 'Rodrigo Silva', 2022, '978-0-8047-3420-2'),\n",
        "  (10, 10, 22.50, 'Educação', 'Aprender a Aprender', 'Rosa Mello', 2020, '978-0-06-093546-7'),\n",
        "  (11, 1, 27.50, 'Autoajuda', 'O Poder da Mente', 'Sandra Alves', 2017, '978-3-16-148412-4'),\n",
        "  (12, 2, 42.90, 'Filosofia', 'Pensamentos que Transformam', 'Leandro Guedes', 2022, '978-1-84356-028-3'),\n",
        "  (13, 3, 29.00, 'História', 'Guerras Mundiais', 'Luiza Castro', 2020, '978-0-7356-6745-2'),\n",
        "  (14, 2, 39.90, 'Romance', 'O Mistério do Tempo', 'Carla Freitas', 2019, '978-0-394-52372-5'),\n",
        "  (15, 1, 45.50, 'Ciência', 'Explorando o Universo', 'João Paes', 2021, '978-0-451-52810-4'),\n",
        "  (16, 3, 25.00, 'História', 'O Antigo Egito', 'Fernanda Cardoso', 2018, '978-0-330-48448-9'),\n",
        "  (17, 4, 55.70, 'Psicologia', 'Entendendo a Mente Humana', 'Maria Lopes', 2022, '978-1-250-08400-3'),\n",
        "  (18, 2, 32.90, 'Autoajuda', 'Caminho para a Felicidade', 'Carlos Souza', 2020, '978-0-307-59428-2'),\n",
        "  (19, 5, 29.90, 'Tecnologia', 'Inteligência Artificial', 'Rafael Lima', 2023, '978-0-099-95902-2'),\n",
        "  (20, 3, 42.00, 'Negócios', 'Estratégias de Sucesso', 'Patrícia Azevedo', 2017, '978-1-4391-2821-4'),\n",
        "  (21, 1, 38.50, 'Filosofia', 'Pensamentos sobre a Vida', 'Luiz Silva', 2021, '978-1-4767-5800-7'),\n",
        "  (22, 2, 40.75, 'Saúde', 'Nutrição e Bem-Estar', 'André Martins', 2019, '978-0-06-231610-3'),\n",
        "  (23, 4, 50.90, 'Biografia', 'A Jornada de um Cientista', 'Bruno Costa', 2022, '978-0-385-74357-9'),\n",
        "  (24, 12, 80.92, 'Educação', 'Libero cupiditate cupiditate excepturi voluptate.', 'Brenda Fogaça', 1968, '978-1-60209-652-3'),\n",
        "  (25, 6, 11.63, 'História', 'Corrupti dignissimos sequi fuga perferendis.', 'Marcela Novaes', 1981, '978-0-86657-605-5'),\n",
        "  (26, 8, 151.7, 'Ficção', 'Ullam possimus dolorem.', 'Emanuella Castro', 2005, '978-0-257-12995-2'),\n",
        "  (27, 2, 93.98, 'Ficção', 'Praesentium iste nam reprehenderit iste dolore.', 'Danilo Silveira', 1931, '978-0-399-66513-4'),\n",
        "  (28, 9, 84.5, 'Educação', 'Eaque rem tenetur et saepe labore.', 'Maria Sophia Almeida', 1954, '978-0-223-78189-4'),\n",
        "  (29, 20, 56.53, 'Tecnologia', 'Vel ratione perferendis labore rerum.', 'Pedro Lucas Nunes', 1928, '978-1-996572-57-3'),\n",
        "  (30, 3, 22.97, 'Educação', 'Quas ea porro id veniam deleniti.', 'Sr. Pedro Miguel Pires', 1975, '978-0-340-38096-3'),\n",
        "  (31, 11, 90.47, 'Educação', 'Occaecati est totam nihil nisi.', 'Clara Nunes', 2016, '978-0-623-94592-6'),\n",
        "  (32, 4, 14.28, 'Biografia', 'Magni nesciunt qui itaque quis.', 'Sr. Bruno Nunes', 1923, '978-1-63275-796-8'),\n",
        "  (33, 16, 104.28, 'Biografia', 'Necessitatibus sit quas.', 'Eduardo Almeida', 1921, '978-0-7362-6390-0'),\n",
        "  (34, 10, 169.88, 'Romance', 'Vero repudiandae nobis quae beatae accusamus.', 'Brenda Barbosa', 2011, '978-0-533-94408-8'),\n",
        "  (35, 14, 185.06, 'Tecnologia', 'Exercitationem dolor fugiat blanditiis officiis.', 'Rafaela Peixoto', 1932, '978-1-5292-6626-9'),\n",
        "  (36, 7, 183.49, 'História', 'Quod doloremque repellat cumque commodi fuga.', 'Dr. Bruno Pinto', 1939, '978-1-262-63845-3'),\n",
        "  (37, 4, 12.79, 'Romance', 'Dolorum natus voluptate aut velit.', 'Isadora Lopes', 1905, '978-1-65532-092-7'),\n",
        "  (38, 4, 60.9, 'Educação', 'Sint laborum tempore commodi nobis.', 'Rafaela Monteiro', 1908, '978-1-03-594752-2'),\n",
        "  (39, 12, 177.38, 'História', 'Ipsa inventore illo.', 'André Lopes', 1955, '978-0-88761-632-7'),\n",
        "  (40, 12, 31.44, 'Não Ficção', 'At a sit eius.', 'Dr. Enrico Cardoso', 1905, '978-0-511-22835-3'),\n",
        "  (41, 18, 165.6, 'Ciência', 'Fugit voluptatum eius iusto corrupti enim.', 'Dr. Isaac Moreira', 1964, '978-0-261-64567-7'),\n",
        "  (42, 6, 171.16, 'Não Ficção', 'Quibusdam earum necessitatibus assumenda odio minima.', 'Gustavo Henrique Aragão', 1935, '978-0-8385-1700-0'),\n",
        "  (43, 12, 44.85, 'Romance', 'Eum ducimus perferendis incidunt natus.', 'Benjamin Moura', 1908, '978-0-538-68769-0'),\n",
        "  (44, 5, 32.89, 'Ciência', 'Voluptatem et at sunt.', 'Dr. João Felipe Cunha', 1922, '978-1-59830-889-1'),\n",
        "  (45, 16, 187.03, 'Educação', 'Est consequatur voluptatum repudiandae nisi.', 'Lucas Gabriel Ferreira', 1994, '978-1-886221-75-8'),\n",
        "  (46, 16, 172.48, 'Ficção', 'Amet expedita neque totam officia officia.', 'Marina Duarte', 1988, '978-1-121-06474-4'),\n",
        "  (47, 6, 83.31, 'Não Ficção', 'Iusto aliquid quisquam illo consectetur itaque.', 'Igor Gonçalves', 2002, '978-1-05-435710-4'),\n",
        "  (48, 12, 58.36, 'Biografia', 'Expedita distinctio vitae illo.', 'Mariana Moraes', 1904, '978-1-202-43839-6'),\n",
        "  (49, 8, 65.65, 'Não Ficção', 'Dicta itaque libero sed dolore voluptatum.', 'Arthur Mendes', 1919, '978-0-9675161-3-4'),\n",
        "  (50, 3, 110.68, 'Tecnologia', 'Itaque quo officia reiciendis.', 'Camila Gomes', 2012, '978-1-09-406622-6'),\n",
        "  (51, 18, 147.66, 'Ficção', 'Sed fugit voluptate blanditiis voluptate.', 'Davi Luiz das Neves', 1930, '978-1-942499-86-2'),\n",
        "  (52, 9, 107.72, 'Tecnologia', 'Nam est a tempore.', 'Marcelo Rezende', 1999, '978-0-523-29591-6'),\n",
        "  (53, 14, 84.66, 'Tecnologia', 'Fugit modi debitis impedit enim.', 'Kaique Jesus', 1910, '978-1-60386-265-3'),\n",
        "  (54, 6, 108.32, 'Não Ficção', 'Dolore nostrum voluptates quidem.', 'Gustavo Henrique Silva', 1994, '978-1-75764-357-3'),\n",
        "  (55, 20, 106.51, 'Não Ficção', 'Praesentium iure eveniet beatae dolorem.', 'Luiz Gustavo da Mota', 1956, '978-1-945761-47-8'),\n",
        "  (56, 8, 151.53, 'Romance', 'Sit minus accusantium.', 'Thiago da Costa', 1986, '978-1-9844-1404-5'),\n",
        "  (57, 7, 11.85, 'Biografia', 'Facere distinctio voluptatem.', 'Amanda Novaes', 1998, '978-0-215-74850-8'),\n",
        "  (58, 9, 21.87, 'Ficção', 'Est quae sed fugiat.', 'Emilly Teixeira', 1982, '978-0-934639-81-1'),\n",
        "  (59, 10, 31.99, 'Tecnologia', 'Id iure porro ea molestias.', 'Pietro Ferreira', 1901, '978-1-05-149025-5'),\n",
        "  (60, 13, 139.71, 'Educação', 'Ducimus odio placeat officiis accusantium porro.', 'Maria Julia Souza', 1992, '978-1-4973-1042-1'),\n",
        "  (61, 20, 19.25, 'Ciência', 'Exercitationem modi reprehenderit quibusdam et.', 'Maria Cecília Freitas', 1933, '978-1-09-868682-6'),\n",
        "  (62, 6, 28.77, 'História', 'Adipisci ratione tempora ex eaque.', 'Dra. Larissa Ribeiro', 1902, '978-1-80510-073-7'),\n",
        "  (63, 14, 65.84, 'Tecnologia', 'Blanditiis blanditiis amet molestiae.', 'Sr. João Felipe Carvalho', 2004, '978-0-485-03007-5'),\n",
        "  (64, 19, 193.61, 'História', 'Ducimus natus aperiam cumque ad voluptas.', 'Luiz Miguel Aragão', 1924, '978-0-85392-534-7'),\n",
        "  (65, 7, 141.85, 'Educação', 'Voluptatum nemo praesentium doloremque fugit.', 'Ana Luiza da Cruz', 1978, '978-1-360-91521-0'),\n",
        "  (66, 20, 175.62, 'Ficção', 'Dolorem veniam assumenda.', 'Daniela Peixoto', 1985, '978-0-621-75524-4'),\n",
        "  (67, 12, 159.69, 'História', 'Possimus blanditiis suscipit atque quis.', 'Gabriel Azevedo', 1974, '978-1-989194-52-2'),\n",
        "  (68, 10, 144.74, 'Romance', 'Magni rerum omnis officia explicabo.', 'Arthur da Mota', 2011, '978-1-02-769299-7'),\n",
        "  (69, 15, 21.14, 'História', 'Sequi optio pariatur vel aperiam adipisci.', 'Marcelo Campos', 1959, '978-0-280-20610-1'),\n",
        "  (70, 9, 168.16, 'Romance', 'Ratione reprehenderit neque perspiciatis a.', 'Sr. Henrique Jesus', 2022, '978-0-13-615923-0'),\n",
        "  (71, 6, 56.23, 'Tecnologia', 'Placeat sunt voluptate blanditiis.', 'Emanuelly Rodrigues', 1954, '978-0-02-991431-1'),\n",
        "  (72, 8, 85.94, 'Não Ficção', 'Architecto occaecati veniam.', 'Renan Mendes', 1900, '978-1-245-19229-3'),\n",
        "  (73, 7, 141.0, 'Ciência', 'Quibusdam a atque temporibus quo fugiat.', 'Felipe Barros', 1924, '978-0-605-89294-1'),\n",
        "  (74, 13, 193.85, 'Não Ficção', 'Quis dolores sequi necessitatibus.', 'Gabriela Peixoto', 1935, '978-0-901654-26-7'),\n",
        "  (75, 3, 194.65, 'Educação', 'Exercitationem reprehenderit officiis voluptatibus.', 'Theo Nogueira', 2020, '978-0-12-141365-1'),\n",
        "  (76, 9, 20.49, 'História', 'Aliquid labore id blanditiis minima accusamus.', 'João Gabriel Rodrigues', 1993, '978-1-228-09795-9'),\n",
        "  (77, 8, 94.82, 'Biografia', 'Voluptatem illum perferendis fugiat nesciunt dolore.', 'Elisa Teixeira', 1911, '978-0-272-02802-5'),\n",
        "  (78, 15, 146.59, 'Biografia', 'Nostrum cupiditate numquam.', 'Guilherme da Mota', 1966, '978-0-13-733358-5'),\n",
        "  (79, 12, 28.73, 'Romance', 'Quod tempora recusandae.', 'Luigi Azevedo', 1941, '978-0-7680-0513-4'),\n",
        "  (80, 9, 103.66, 'Romance', 'At quis tempora incidunt.', 'Ana Júlia Costela', 2013, '978-0-7819-0095-9'),\n",
        "  (81, 11, 97.62, 'Não Ficção', 'Minima esse atque nihil cupiditate.', 'Helena Fogaça', 1933, '978-0-469-06639-7'),\n",
        "  (82, 1, 117.8, 'Romance', 'Accusantium mollitia dolorum corrupti.', 'Pedro Miguel Costela', 1961, '978-0-8186-6905-7'),\n",
        "  (83, 3, 25.07, 'Ficção', 'Sunt inventore quae veritatis.', 'Lucas Pereira', 2024, '978-0-09-956063-0'),\n",
        "  (84, 18, 129.54, 'Não Ficção', 'Repudiandae quam sequi consequuntur officia quaerat.', 'Rafael Rezende', 1970, '978-1-05-612830-6'),\n",
        "  (85, 10, 82.92, 'Educação', 'Fugit est soluta.', 'João Guilherme Almeida', 1905, '978-0-7613-4181-9'),\n",
        "  (86, 4, 165.56, 'Ciência', 'Ipsum eum repellat corporis.', 'Ana Luiza Araújo', 1999, '978-0-249-66952-7'),\n",
        "  (87, 13, 151.89, 'Romance', 'Voluptas labore reiciendis.', 'Juliana Almeida', 1910, '978-1-79935-698-1'),\n",
        "  (88, 2, 80.52, 'Não Ficção', 'Dolorem dolor veniam.', 'Agatha Alves', 1982, '978-1-397-15605-1'),\n",
        "  (89, 8, 185.76, 'Tecnologia', 'Voluptatum eos temporibus neque vel velit.', 'Esther da Cruz', 2009, '978-1-5346-9425-5'),\n",
        "  (90, 18, 89.75, 'História', 'Reprehenderit ratione nemo fuga.', 'Mirella Gomes', 1987, '978-1-345-89471-4'),\n",
        "  (91, 13, 186.15, 'Romance', 'Quam nam sequi voluptate fuga.', 'Dra. Sarah Azevedo', 2007, '978-0-489-57301-1'),\n",
        "  (92, 1, 171.21, 'Não Ficção', 'Quibusdam tempore enim animi.', 'Natália Santos', 1949, '978-0-02-973351-6'),\n",
        "  (93, 11, 43.22, 'Tecnologia', 'Laboriosam eum reiciendis dignissimos iure.', 'Lorena Cardoso', 1953, '978-1-05-815573-7'),\n",
        "  (94, 8, 51.36, 'Ciência', 'Neque nesciunt corrupti officiis.', 'Luana Teixeira', 1920, '978-1-61624-894-9'),\n",
        "  (95, 2, 69.09, 'Educação', 'Cumque inventore eligendi.', 'Bianca da Costa', 1999, '978-0-900741-89-0'),\n",
        "  (96, 12, 194.61, 'Biografia', 'Laboriosam nesciunt iure rem saepe.', 'Kevin Farias', 1971, '978-1-990611-90-2'),\n",
        "  (97, 10, 150.72, 'Biografia', 'Repudiandae nesciunt ex quas.', 'Felipe Porto', 2018, '978-0-11-926653-5'),\n",
        "  (98, 3, 127.11, 'Biografia', 'Adipisci iure fugit eum corporis accusamus.', 'Bernardo Lopes', 1917, '978-0-8287-8775-8'),\n",
        "  (99, 5, 176.51, 'Romance', 'Repellendus molestiae aperiam eligendi occaecati consectetur.', 'Yuri Moura', 1979, '978-0-7772-5166-9'),\n",
        "  (100, 16, 33.48, 'Ciência', 'Impedit cum itaque nihil rerum animi.', 'Carlos Eduardo Silveira', 1908, '978-1-01-089632-6'),\n",
        "  (101, 5, 190.52, 'Ficção', 'Eligendi similique illum eveniet soluta.', 'Igor Gonçalves', 1937, '978-1-140-01417-1'),\n",
        "  (102, 17, 195.09, 'Educação', 'Magnam quibusdam vero vel velit.', 'Ana Júlia Monteiro', 1917, '978-1-352-50914-4'),\n",
        "  (103, 9, 146.69, 'Ficção', 'Autem occaecati at excepturi.', 'Benjamin Carvalho', 1965, '978-0-07-867148-7'),\n",
        "  (104, 11, 198.48, 'Ficção', 'Eligendi adipisci animi.', 'Isis Fernandes', 1992, '978-0-7579-5777-2'),\n",
        "  (105, 18, 29.07, 'Ficção', 'Earum repudiandae illo reiciendis sapiente.', 'Maria Clara da Luz', 1908, '978-0-9898282-9-1'),\n",
        "  (106, 18, 79.44, 'História', 'Placeat assumenda ea saepe animi.', 'Olivia Silva', 2023, '978-0-516-42605-1'),\n",
        "  (107, 14, 119.36, 'Biografia', 'Eum nostrum magnam ipsam provident.', 'Dra. Bárbara da Rosa', 1986, '978-1-138-81669-5'),\n",
        "  (108, 7, 12.88, 'Educação', 'Quisquam distinctio officiis explicabo.', 'Enzo Alves', 2016, '978-1-954887-98-5'),\n",
        "  (109, 20, 86.52, 'Ciência', 'Placeat facilis qui dolor.', 'Dr. Heitor Gomes', 1969, '978-1-60529-887-0'),\n",
        "  (110, 4, 169.97, 'História', 'Dicta fugit labore sed expedita optio.', 'Sr. André Pires', 1974, '978-0-7581-5404-0'),\n",
        "  (111, 10, 34.85, 'História', 'Velit sit exercitationem est.', 'Maria Clara Martins', 1930, '978-1-391-19447-9'),\n",
        "  (112, 4, 147.95, 'História', 'Error consequuntur molestiae.', 'Noah Araújo', 1981, '978-1-885767-21-9'),\n",
        "  (113, 8, 83.02, 'Biografia', 'Maxime optio nisi.', 'Dr. Leonardo Rezende', 1903, '978-1-84796-402-1'),\n",
        "  (114, 6, 139.36, 'Tecnologia', 'Accusamus ullam autem consequatur.', 'Ryan Araújo', 2018, '978-0-904910-04-9'),\n",
        "  (115, 2, 65.66, 'Ciência', 'A occaecati ipsam accusantium.', 'Vitória Cardoso', 2010, '978-0-607-21110-8'),\n",
        "  (116, 6, 127.37, 'Biografia', 'Incidunt nemo atque inventore tenetur labore.', 'Ana Julia Souza', 1911, '978-1-291-01841-7'),\n",
        "  (117, 3, 116.8, 'Tecnologia', 'Fuga unde commodi ratione.', 'Luiz Otávio Moraes', 1998, '978-0-7666-5172-2'),\n",
        "  (118, 6, 63.01, 'Não Ficção', 'Dicta praesentium temporibus.', 'Stella Vieira', 1951, '978-0-596-88210-5'),\n",
        "  (119, 2, 40.4, 'História', 'Non error mollitia quae omnis voluptatum.', 'Leandro Teixeira', 1936, '978-0-386-40499-9'),\n",
        "  (120, 18, 68.85, 'Ficção', 'Quidem itaque itaque amet.', 'Gabrielly da Luz', 2009, '978-0-9658191-0-7'),\n",
        "  (121, 20, 28.64, 'Biografia', 'Voluptates beatae cupiditate sit minima harum.', 'Luiz Felipe Cavalcanti', 2004, '978-0-389-89222-9'),\n",
        "  (122, 5, 19.6, 'Romance', 'Beatae facilis fugiat reiciendis a laboriosam.', 'João Felipe Gomes', 2002, '978-1-72931-384-8'),\n",
        "  (123, 19, 59.86, 'Tecnologia', 'Qui inventore repellat.', 'Luiz Henrique Ribeiro', 1966, '978-1-5263-5936-0'),\n",
        "  (124, 18, 26.78, 'Romance', 'Officiis quasi illum.', 'Maitê Moraes', 1986, '978-1-01-705899-4'),\n",
        "  (125, 16, 188.59, 'Biografia', 'Aperiam distinctio cupiditate nobis.', 'Sr. Luiz Fernando Porto', 1920, '978-0-668-04943-6'),\n",
        "  (126, 8, 91.17, 'Tecnologia', 'Doloremque doloremque quod incidunt officia.', 'Sofia Araújo', 2014, '978-0-9656248-4-8'),\n",
        "  (127, 12, 156.74, 'Biografia', 'Non animi sit adipisci.', 'Dr. Emanuel da Cruz', 1962, '978-1-5028-3285-6'),\n",
        "  (128, 14, 125.82, 'História', 'Veniam facere debitis nostrum molestias.', 'Ana Beatriz Rodrigues', 1928, '978-0-259-19434-7'),\n",
        "  (129, 3, 177.11, 'História', 'Eveniet reprehenderit optio.', 'Isabelly Moura', 1927, '978-1-197-51905-6'),\n",
        "  (130, 13, 100.53, 'Não Ficção', 'Praesentium veritatis officia.', 'Maria Eduarda Pires', 1982, '978-0-7017-3900-3'),\n",
        "  (131, 14, 98.11, 'Ficção', 'Voluptate distinctio non quis.', 'Laís Cavalcanti', 1957, '978-0-11-433033-0'),\n",
        "  (132, 15, 159.05, 'Não Ficção', 'Inventore recusandae fuga hic.', 'Nina Pires', 2003, '978-0-06-524943-9'),\n",
        "  (133, 17, 121.82, 'Tecnologia', 'Veritatis tempore fugit unde fugiat.', 'Isabelly Moura', 1918, '978-0-10-016766-7'),\n",
        "  (134, 3, 99.51, 'Ciência', 'Quis nostrum voluptatibus esse reprehenderit.', 'Gabriel Oliveira', 1996, '978-0-7836-0934-8'),\n",
        "  (135, 1, 93.12, 'Não Ficção', 'Ratione ut necessitatibus voluptatibus non.', 'Pedro Lucas das Neves', 1976, '978-0-7948-0031-4'),\n",
        "  (136, 2, 198.91, 'Ficção', 'Nihil eaque beatae deleniti dolor.', 'Nicole Alves', 2006, '978-1-59866-532-1'),\n",
        "  (137, 5, 157.27, 'Tecnologia', 'Nulla pariatur officiis perferendis culpa neque.', 'Thales Novaes', 1922, '978-0-677-34952-7'),\n",
        "  (138, 3, 128.76, 'História', 'Reiciendis enim rerum.', 'Emanuel Monteiro', 1937, '978-1-391-04000-4'),\n",
        "  (139, 8, 140.87, 'Ciência', 'Accusamus ullam vel.', 'João Lucas das Neves', 1929, '978-0-03-556804-1'),\n",
        "  (140, 6, 76.98, 'Ficção', 'Repellendus debitis officiis eos repellat.', 'Isabelly Sales', 1965, '978-0-527-14716-7'),\n",
        "  (141, 15, 126.08, 'História', 'Necessitatibus minima sunt quae vitae sapiente.', 'Maria Fernanda Nogueira', 1973, '978-0-351-55885-6'),\n",
        "  (142, 4, 57.78, 'Ciência', 'Enim quisquam veniam.', 'Paulo Lima', 1996, '978-0-657-23714-1'),\n",
        "  (143, 11, 159.12, 'Ciência', 'Exercitationem alias consectetur esse a.', 'Thiago Sales', 2008, '978-1-4204-3835-2'),\n",
        "  (144, 11, 62.05, 'Tecnologia', 'Ratione totam optio iure.', 'Calebe Ferreira', 1955, '978-0-272-09126-5'),\n",
        "  (145, 14, 172.41, 'Ciência', 'Explicabo eum odio consequuntur doloribus voluptas.', 'Theo Melo', 1966, '978-1-268-48943-1'),\n",
        "  (146, 15, 123.05, 'Educação', 'Odio esse inventore.', 'Dr. Gabriel da Cruz', 1999, '978-0-16-180685-7'),\n",
        "  (147, 9, 92.51, 'Biografia', 'Voluptas esse sunt.', 'Srta. Emanuelly Barros', 2006, '978-1-62048-886-7'),\n",
        "  (148, 20, 27.68, 'Biografia', 'Dicta error sint.', 'Sra. Ana Sophia Peixoto', 1930, '978-1-05-794936-8'),\n",
        "  (149, 16, 40.06, 'Romance', 'Veniam vitae voluptas.', 'Rodrigo Monteiro', 1949, '978-1-270-37701-6'),\n",
        "  (150, 17, 106.77, 'Educação', 'Harum iste distinctio dolores.', 'João Pedro Ferreira', 1979, '978-1-275-98036-5'),\n",
        "  (151, 11, 169.18, 'Romance', 'Quaerat delectus doloribus placeat.', 'Dra. Amanda Mendes', 2019, '978-0-18-170333-4'),\n",
        "  (152, 3, 152.91, 'Educação', 'Veritatis dolore quisquam optio.', 'Juan Monteiro', 2004, '978-1-79986-498-1'),\n",
        "  (153, 3, 180.78, 'Tecnologia', 'Soluta unde vero.', 'Daniela da Paz', 1983, '978-1-189-97269-2'),\n",
        "  (154, 13, 45.08, 'Ciência', 'Autem quidem expedita quibusdam.', 'Thales Barros', 2020, '978-1-286-27816-1'),\n",
        "  (155, 15, 137.24, 'Romance', 'Iste exercitationem alias dolore.', 'Vitor Hugo Pires', 1984, '978-0-259-35162-7'),\n",
        "  (156, 16, 124.95, 'Ciência', 'Eveniet alias reprehenderit sunt numquam magnam.', 'Isabella Oliveira', 1969, '978-0-00-237126-1'),\n",
        "  (157, 13, 143.3, 'Educação', 'Nesciunt laboriosam necessitatibus quis iste consequuntur.', 'Eduardo da Mata', 1961, '978-1-218-98430-6'),\n",
        "  (158, 2, 57.33, 'Biografia', 'Doloribus quidem rem.', 'Bianca Pinto', 1922, '978-1-58953-864-1'),\n",
        "  (159, 18, 147.28, 'Biografia', 'Dicta quis recusandae officiis.', 'Mariana Sales', 2011, '978-0-09-766369-2'),\n",
        "  (160, 8, 152.21, 'Ficção', 'Ut rerum esse.', 'Lorena Cavalcanti', 2018, '978-1-74854-980-8'),\n",
        "  (161, 3, 107.21, 'Não Ficção', 'Neque dignissimos debitis.', 'Elisa Santos', 1971, '978-0-911735-59-8'),\n",
        "  (162, 20, 154.22, 'Ficção', 'Voluptatum iure consequatur accusamus laboriosam.', 'Dr. Otávio Pires', 1951, '978-1-77139-991-3'),\n",
        "  (163, 11, 22.41, 'Romance', 'Quibusdam quidem hic.', 'Eloah Freitas', 1962, '978-1-74229-283-0'),\n",
        "  (164, 5, 162.98, 'Tecnologia', 'Tempore dolorum explicabo aperiam.', 'Dr. Diego Moreira', 1922, '978-1-03-393359-6'),\n",
        "  (165, 4, 186.69, 'Não Ficção', 'Repellat officia dolor tempora unde natus.', 'Carolina Farias', 1976, '978-1-372-98255-2'),\n",
        "  (166, 4, 166.53, 'Ficção', 'Cupiditate consequatur reprehenderit saepe eum.', 'Elisa Vieira', 1965, '978-1-871512-98-4'),\n",
        "  (167, 1, 113.82, 'Romance', 'Distinctio assumenda at facere suscipit.', 'Dra. Daniela da Paz', 1996, '978-0-7170-7453-2'),\n",
        "  (168, 9, 48.25, 'História', 'Distinctio veniam fugiat aperiam aspernatur.', 'Caroline Viana', 1975, '978-1-5182-2285-6'),\n",
        "  (169, 1, 35.03, 'História', 'Quia excepturi aspernatur odio quaerat dolor.', 'Arthur Moreira', 1933, '978-1-295-20031-3'),\n",
        "  (170, 12, 38.36, 'História', 'Assumenda nesciunt error.', 'Dr. Breno Carvalho', 2023, '978-1-277-63320-7'),\n",
        "  (171, 2, 40.17, 'Ficção', 'Culpa consequatur aliquid.', 'Levi Freitas', 1932, '978-1-85368-223-0'),\n",
        "  (172, 2, 179.46, 'Ciência', 'Ex maiores ratione.', 'Emanuel Correia', 1956, '978-0-202-84534-0'),\n",
        "  (173, 9, 161.33, 'Romance', 'Ipsum maxime explicabo veniam deserunt.', 'Sra. Gabriela Teixeira', 1941, '978-0-89267-397-1'),\n",
        "  (174, 7, 20.47, 'Tecnologia', 'Molestiae dolore quos unde.', 'Rafael Pires', 1951, '978-0-433-55135-5'),\n",
        "  (175, 13, 31.14, 'História', 'Dolor ea minus iure atque ab.', 'Amanda Aragão', 1965, '978-1-4828-1112-4'),\n",
        "  (176, 13, 84.88, 'Educação', 'Laboriosam sint illo.', 'Ana Julia Martins', 2005, '978-0-7111-5736-1'),\n",
        "  (177, 12, 95.46, 'Tecnologia', 'Accusamus fugit voluptas inventore.', 'Nicolas Correia', 2003, '978-1-4314-4708-4'),\n",
        "  (178, 12, 150.03, 'História', 'Impedit quae ex sunt.', 'Emanuella Duarte', 1964, '978-1-213-96017-6'),\n",
        "  (179, 19, 16.43, 'Não Ficção', 'Occaecati enim aut quasi occaecati.', 'Maria Julia Cardoso', 1970, '978-1-170-09486-0'),\n",
        "  (180, 4, 96.77, 'Ciência', 'Dignissimos pariatur rem.', 'Anthony Monteiro', 1920, '978-1-358-43435-8'),\n",
        "  (181, 11, 159.1, 'Romance', 'Sequi facilis hic nobis mollitia.', 'Marcos Vinicius da Luz', 2009, '978-0-239-36518-7'),\n",
        "  (182, 1, 108.98, 'Tecnologia', 'Veniam praesentium rem a.', 'Dr. Gustavo Costa', 1919, '978-0-694-40429-2'),\n",
        "  (183, 5, 28.98, 'Biografia', 'Praesentium explicabo nostrum pariatur error delectus.', 'Daniel da Cunha', 1912, '978-0-370-41039-5'),\n",
        "  (184, 18, 39.3, 'Biografia', 'Inventore dolores repellat maxime at.', 'Augusto Monteiro', 1921, '978-1-912059-77-5'),\n",
        "  (185, 19, 197.8, 'Ciência', 'Repellendus vitae natus recusandae.', 'Isadora Farias', 1972, '978-1-248-17832-4'),\n",
        "  (186, 14, 121.92, 'Biografia', 'Earum cumque quaerat enim eius.', 'Pedro Lucas da Rocha', 1913, '978-1-342-08679-2'),\n",
        "  (187, 8, 72.01, 'Educação', 'Culpa incidunt in doloribus et.', 'Dra. Maysa Cavalcanti', 2001, '978-0-668-59045-7'),\n",
        "  (188, 16, 128.47, 'História', 'Facere exercitationem sapiente aut magni.', 'João Felipe Mendes', 2010, '978-1-00-853165-9'),\n",
        "  (189, 3, 190.25, 'Educação', 'Sequi corrupti quae ea cupiditate eveniet.', 'Clara Barbosa', 1953, '978-1-4247-2788-9'),\n",
        "  (190, 6, 44.15, 'Tecnologia', 'Rerum provident soluta accusantium amet.', 'Esther da Mata', 1918, '978-0-265-51717-8'),\n",
        "  (191, 4, 53.52, 'Romance', 'Rem unde blanditiis voluptatibus impedit autem.', 'Sr. Daniel Castro', 1942, '978-1-184-76308-0'),\n",
        "  (192, 11, 181.13, 'Ficção', 'Magnam eaque nisi modi sint laudantium.', 'Luiz Fernando Nogueira', 1973, '978-0-927704-50-2'),\n",
        "  (193, 2, 181.39, 'Educação', 'Provident placeat suscipit voluptate dolorem autem.', 'Diogo Cunha', 1930, '978-0-541-32072-0'),\n",
        "  (194, 9, 34.74, 'Biografia', 'Laborum repellendus suscipit sunt dignissimos voluptatum.', 'Mariana Barros', 1979, '978-0-221-99615-3'),\n",
        "  (195, 13, 114.23, 'Ficção', 'Sint alias laborum voluptatem rerum.', 'Renan Ribeiro', 1973, '978-0-458-44726-8'),\n",
        "  (196, 13, 43.13, 'Não Ficção', 'Non aliquid quidem magni quod eligendi.', 'Maria Luiza Almeida', 1926, '978-1-5031-4734-8'),\n",
        "  (197, 20, 80.34, 'História', 'Temporibus aut molestiae.', 'Enzo Cardoso', 1972, '978-1-83813-104-3'),\n",
        "  (198, 19, 112.01, 'Não Ficção', 'Nobis id vitae a ab.', 'Srta. Sarah Moura', 1921, '978-1-78209-290-2'),\n",
        "  (199, 14, 129.58, 'Ciência', 'Veritatis ipsa qui perferendis repudiandae.', 'Bruna Melo', 1959, '978-0-340-85096-1'),\n",
        "  (200, 16, 84.9, 'Não Ficção', 'Sit ipsum numquam architecto.', 'Bruna Nascimento', 2021, '978-1-307-14855-8'),\n",
        "  (201, 10, 171.9, 'Não Ficção', 'Explicabo vitae mollitia eligendi odit.', 'Guilherme Azevedo', 2017, '978-0-88183-075-0'),\n",
        "  (202, 3, 125.46, 'Educação', 'Magni autem perspiciatis ullam.', 'Clarice da Paz', 1962, '978-1-4757-0525-6'),\n",
        "  (203, 19, 188.71, 'História', 'Sed hic fugiat quod id mollitia.', 'Augusto Duarte', 1994, '978-1-219-24582-6'),\n",
        "  (204, 14, 168.89, 'Educação', 'Aut odit animi alias consectetur.', 'Emanuelly Gonçalves', 1985, '978-1-71937-235-0'),\n",
        "  (205, 1, 47.62, 'Tecnologia', 'Accusamus modi dolor.', 'Noah da Costa', 1934, '978-0-386-45056-9'),\n",
        "  (206, 15, 194.49, 'Tecnologia', 'Maxime animi blanditiis.', 'Milena Pires', 1976, '978-1-71082-546-6'),\n",
        "  (207, 9, 92.92, 'Tecnologia', 'Voluptates quia iusto voluptates pariatur.', 'Stephany Jesus', 1987, '978-1-00-061306-3'),\n",
        "  (208, 14, 24.49, 'Educação', 'Quaerat at perspiciatis deleniti alias.', 'Brenda da Mota', 1979, '978-0-17-188756-3'),\n",
        "  (209, 17, 150.83, 'Biografia', 'Accusantium praesentium ex animi aliquam.', 'Dr. Alexandre Vieira', 1921, '978-0-370-02766-1'),\n",
        "  (210, 13, 87.87, 'Ficção', 'Aliquid necessitatibus labore suscipit repellendus ex.', 'Noah Campos', 1940, '978-0-481-03365-0'),\n",
        "  (211, 1, 48.52, 'História', 'Voluptatem dolore architecto.', 'Natália Cunha', 2000, '978-0-06-860229-3'),\n",
        "  (212, 8, 146.59, 'Ficção', 'Quidem eos accusamus itaque quis.', 'Isabel Jesus', 1973, '978-1-77767-187-7'),\n",
        "  (213, 4, 183.12, 'Tecnologia', 'Harum provident consequatur velit itaque ipsa.', 'Sr. Anthony Farias', 1939, '978-1-228-45225-3'),\n",
        "  (214, 8, 45.9, 'Biografia', 'Culpa quidem commodi et doloribus eligendi.', 'Levi Fogaça', 1942, '978-0-266-66725-4'),\n",
        "  (215, 15, 131.65, 'Biografia', 'Consequuntur modi adipisci illo eos dolorum.', 'Rafael da Conceição', 1993, '978-0-370-31230-9'),\n",
        "  (216, 8, 92.15, 'Ciência', 'Pariatur dolorum adipisci a.', 'Melissa Santos', 2019, '978-1-398-07619-8'),\n",
        "  (217, 2, 99.89, 'História', 'Totam quidem facilis possimus.', 'Luigi Barbosa', 1955, '978-0-214-85298-5'),\n",
        "  (218, 17, 50.27, 'Não Ficção', 'Assumenda cupiditate fugiat unde quam.', 'Mirella Ribeiro', 2021, '978-1-4837-5700-1'),\n",
        "  (219, 4, 170.58, 'Ficção', 'Reiciendis eius labore debitis veniam totam.', 'Paulo Freitas', 1943, '978-0-7654-6283-1'),\n",
        "  (220, 19, 146.48, 'Ciência', 'Nam error eveniet sunt quam.', 'Dr. Thales da Rocha', 1999, '978-0-9781951-1-3'),\n",
        "  (221, 3, 169.35, 'Biografia', 'Ullam alias voluptate libero natus.', 'Emanuelly Souza', 1967, '978-0-578-77163-2'),\n",
        "  (222, 10, 139.45, 'Não Ficção', 'Vel laborum sed iste repudiandae ipsum.', 'Matheus Martins', 1940, '978-1-5159-4414-0'),\n",
        "  (223, 16, 70.33, 'Tecnologia', 'Deleniti amet iste atque aliquam.', 'Nicole Moraes', 1981, '978-1-78817-430-5');\n",
        "\"\"\"\n",
        "\n",
        "# dbs.executar_sql(sql3)\n",
        "\n",
        "\n",
        "sql4 = \"\"\"\n",
        "INSERT INTO estoque (cod_livro, qtde_estoque) VALUES\n",
        "(1, 15), (2, 10), (3, 5), (4, 20), (5, 8), (6, 12), (7, 18), (8, 22), (9, 14), (10, 25),\n",
        "(11, 20), (12, 25), (13, 18), (14, 10), (15, 15), (16, 8), (17, 7), (18, 18), (19, 4), (20, 5), (21, 8),\n",
        "(22, 7), (23, 1);\n",
        "\"\"\"\n",
        "\n",
        "# dbs.executar_sql(sql4)\n",
        "\n",
        "sql5 = \"\"\"\n",
        "INSERT INTO pedido (cod_pedido, cod_cliente, Data, valor_pedido) VALUES\n",
        "(1, 1, '2024-11-01', 59.80),\n",
        "(2, 2, '2024-11-02', 29.90),\n",
        "(3, 3, '2024-11-03', 49.90),\n",
        "(4, 4, '2024-11-04', 19.90),\n",
        "(5, 5, '2024-11-05', 89.90),\n",
        "(6, 6, '2024-11-06', 34.90),\n",
        "(7, 7, '2024-11-07', 24.90),\n",
        "(8, 8, '2024-11-08', 99.90),\n",
        "(9, 9, '2024-11-09', 119.90),\n",
        "(10, 10, '2024-11-10', 55.50),\n",
        "(11, 1, '2024-11-11', 85.00),\n",
        "(12, 3, '2024-11-12', 60.50),\n",
        "(13, 5, '2024-11-13', 95.70),\n",
        "(14, 1, '2024-11-14', 85.70),\n",
        "(15, 3, '2024-11-15', 120.45),\n",
        "(16, 5, '2024-11-16', 54.90),\n",
        "(17, 7, '2024-11-17', 100.50),\n",
        "(18, 9, '2024-11-18', 89.75),\n",
        "(19, 2, '2024-11-19', 65.30),\n",
        "(20, 4, '2024-11-20', 150.20),\n",
        "(21, 6, '2024-11-21', 73.15),\n",
        "(22, 8, '2024-11-22', 132.90),\n",
        "(23, 10, '2024-11-23', 90.80);\n",
        "\"\"\"\n",
        "\n",
        "# dbs.executar_sql(sql5)\n",
        "\n",
        "sql6 = \"\"\"\n",
        "  INSERT INTO itens_pedido (cod_pedido, cod_livro, quantidade, valor_unitario) VALUES\n",
        "  (1, 1, 1, 29.90), (1, 2, 1, 29.90), (2, 3, 1, 29.90),\n",
        "  (3, 4, 2, 19.90), (4, 5, 1, 59.90), (5, 6, 1, 45.00),\n",
        "  (5, 7, 1, 34.90), (6, 8, 1, 24.90), (7, 9, 1, 55.00),\n",
        "  (7, 10, 1, 22.50), (8, 1, 1, 29.90), (8, 3, 1, 49.90),\n",
        "  (8, 5, 1, 59.90),  (11, 11, 1, 27.50), (11, 12, 1, 42.90),\n",
        "  (12, 13, 1, 29.00), (12, 1, 1, 29.90), (13, 5, 1, 59.90),\n",
        "  (13, 6, 1, 45.00), (21, 1, '2024-11-14', 85.70),\n",
        "  (22, 3, '2024-11-15', 120.45),\n",
        "  (23, 5, '2024-11-16', 54.90),\n",
        "  (14, 7, '2024-11-17', 100.50),\n",
        "  (15, 9, '2024-11-18', 89.75),\n",
        "  (16, 2, '2024-11-19', 65.30),\n",
        "  (17, 4, '2024-11-20', 150.20),\n",
        "  (18, 6, '2024-11-21', 73.15),\n",
        "  (19, 8, '2024-11-22', 132.90),\n",
        "  (10, 10, '2024-11-23', 90.80);\n",
        "\n",
        "\"\"\"\n",
        "\n",
        "# dbs.executar_sql(sql6)\n",
        "\n",
        "lista_sql = [sql1, sql2, sql3, sql4, sql5, sql6]\n",
        "\n",
        "for sql in lista_sql:\n",
        "    dbs.executar_sql(sql)\n"
      ],
      "metadata": {
        "id": "VeDmVIAklI_s"
      },
      "execution_count": null,
      "outputs": []
    },
    {
      "cell_type": "markdown",
      "source": [
        "### <font color='orange'>**ALGUNS SELECTS PARA CONFIRMAR A INSERÇÃO DE DADOS**</font>"
      ],
      "metadata": {
        "id": "afHOqXZ07Exg"
      }
    },
    {
      "cell_type": "code",
      "source": [
        "sql = \"SELECT * FROM cliente;\"\n",
        "\n",
        "print(\"ID\\t NOME\")\n",
        "for i in dbs.executar_sql(sql):\n",
        "    print(f\"{i[0]}\\t {i[1]}\")"
      ],
      "metadata": {
        "id": "AIH0YEa7pHdb"
      },
      "execution_count": null,
      "outputs": []
    },
    {
      "cell_type": "code",
      "source": [
        "sql = \"SELECT * FROM editora;\"\n",
        "\n",
        "print(\"ID\\t NOME\")\n",
        "for i in dbs.executar_sql(sql):\n",
        "    print(f\"{i[0]}\\t {i[3]}\")"
      ],
      "metadata": {
        "id": "GRmlVk9aqUdK"
      },
      "execution_count": null,
      "outputs": []
    },
    {
      "cell_type": "code",
      "source": [
        "sql = \"SELECT * FROM livro;\"\n",
        "\n",
        "print(\"ID\\t NOME\")\n",
        "for i in dbs.executar_sql(sql):\n",
        "    print(f\"{i[0]}\\t {i[4]}\")"
      ],
      "metadata": {
        "id": "PTyLAvbCqya5"
      },
      "execution_count": null,
      "outputs": []
    },
    {
      "cell_type": "code",
      "source": [
        "sql = \"SELECT sql FROM sqlite_schema WHERE name='cliente'\"\n",
        "\n",
        "for i in dbs.executar_sql(sql):\n",
        "    print(i[0])"
      ],
      "metadata": {
        "id": "bgwc_V1d0sKG"
      },
      "execution_count": null,
      "outputs": []
    },
    {
      "cell_type": "markdown",
      "source": [
        "# <font color=\"ocean\" align='center'>**ATIVIDADE DE PESQUISA E REALIZAÇÃO DE EXERCÍCIOS**</font>\n",
        "# <font color=\"yellow\" align='center'>**ATIVIDADE DE PESQUISA E REALIZAÇÃO DE EXERCÍCIOS**</font>\n",
        "# <font color=\"blue\" align='center'>**ATIVIDADE DE PESQUISA E REALIZAÇÃO DE EXERCÍCIOS**</font>"
      ],
      "metadata": {
        "id": "MTM3qP_gICTC"
      }
    },
    {
      "cell_type": "markdown",
      "source": [
        "### <font color='orange'>**01) Quantos clientes a livraria tem cadastrados?**</font>\n"
      ],
      "metadata": {
        "id": "A_Fo8mJou-TS"
      }
    },
    {
      "cell_type": "code",
      "source": [
        "### Solução aqui\n",
        "\n"
      ],
      "metadata": {
        "id": "oK7sdfcCU4Pp"
      },
      "execution_count": null,
      "outputs": []
    },
    {
      "cell_type": "markdown",
      "source": [
        "### <font color='orange'>**02) Quantas editoras estão cadastradas?**</font>\n"
      ],
      "metadata": {
        "id": "SeBbn_5du-lU"
      }
    },
    {
      "cell_type": "code",
      "source": [
        "### Solução aqui\n",
        "\n"
      ],
      "metadata": {
        "id": "dBIPWaTXu-lV"
      },
      "execution_count": null,
      "outputs": []
    },
    {
      "cell_type": "markdown",
      "source": [
        "### <font color='orange'>**03) Quantos livros estão cadastrados?**</font>"
      ],
      "metadata": {
        "id": "9CamG2mS_GtU"
      }
    },
    {
      "cell_type": "code",
      "source": [
        "# Solução aqui\n",
        "\n"
      ],
      "metadata": {
        "id": "lLCfi1qqK2qc"
      },
      "execution_count": null,
      "outputs": []
    },
    {
      "cell_type": "markdown",
      "source": [
        "### <font color='orange'>**04) Quantos livros tem no estoque?**</font>"
      ],
      "metadata": {
        "id": "Cmr6EmVqVf3c"
      }
    },
    {
      "cell_type": "code",
      "source": [
        "# Solução aqui\n",
        "\n"
      ],
      "metadata": {
        "id": "a0EkUdgnVf3e"
      },
      "execution_count": null,
      "outputs": []
    },
    {
      "cell_type": "markdown",
      "source": [
        "### <font color='orange'>**05) Quantos pedidos foram realizados?**</font>"
      ],
      "metadata": {
        "id": "2pZBtEZ0Vpwr"
      }
    },
    {
      "cell_type": "code",
      "source": [
        "# Solução aqui\n",
        "\n"
      ],
      "metadata": {
        "id": "xf1naiq0Vpws"
      },
      "execution_count": null,
      "outputs": []
    },
    {
      "cell_type": "markdown",
      "source": [
        "### <font color='orange'>**06) Quantos livros foram vendidos?**</font>"
      ],
      "metadata": {
        "id": "Nypc6P-zWI3i"
      }
    },
    {
      "cell_type": "code",
      "source": [
        "# Solução aqui\n",
        "\n"
      ],
      "metadata": {
        "id": "L2fDUIlQWI3j"
      },
      "execution_count": null,
      "outputs": []
    },
    {
      "cell_type": "markdown",
      "source": [
        "### <font color='orange'>**07) Qual é a quantidade por livro no estoque?**</font>"
      ],
      "metadata": {
        "id": "uy3VMNhYWI70"
      }
    },
    {
      "cell_type": "code",
      "source": [
        "# Solução aqui\n",
        "\n"
      ],
      "metadata": {
        "id": "InhwiIsFWI70"
      },
      "execution_count": null,
      "outputs": []
    },
    {
      "cell_type": "markdown",
      "source": [
        "### <font color='orange'>**08) Determine o número de livros que são da categoria \"Ciência de Dados\".**</font>"
      ],
      "metadata": {
        "id": "evE0U3qrWI_i"
      }
    },
    {
      "cell_type": "code",
      "source": [
        "# Solução aqui\n",
        "\n"
      ],
      "metadata": {
        "id": "b_g_LRITWI_j"
      },
      "execution_count": null,
      "outputs": []
    },
    {
      "cell_type": "markdown",
      "source": [
        "### <font color='orange'>**09) Determine o número de livros que não são da categoria \"Ciência de Dados\".**</font>"
      ],
      "metadata": {
        "id": "9-otobOjWJDj"
      }
    },
    {
      "cell_type": "code",
      "source": [
        "# Solução aqui\n",
        "\n"
      ],
      "metadata": {
        "id": "Z8eFKPaCWJDk"
      },
      "execution_count": null,
      "outputs": []
    },
    {
      "cell_type": "markdown",
      "source": [
        "### <font color='orange'>**10) Determine o número de categorias de livros atualmente existente no banco de dados.**</font>"
      ],
      "metadata": {
        "id": "0m9wCnFhWJIA"
      }
    },
    {
      "cell_type": "code",
      "source": [
        "# Solução aqui\n",
        "\n"
      ],
      "metadata": {
        "id": "tpodSU0NWJIA"
      },
      "execution_count": null,
      "outputs": []
    },
    {
      "cell_type": "markdown",
      "source": [
        "### <font color='orange'>**11) Qual é o número de livros por categoria?**</font>"
      ],
      "metadata": {
        "id": "nprIUMlzWlNI"
      }
    },
    {
      "cell_type": "code",
      "source": [
        "# Solução aqui\n",
        "\n"
      ],
      "metadata": {
        "id": "UTpUQNtSWlNJ"
      },
      "execution_count": null,
      "outputs": []
    },
    {
      "cell_type": "markdown",
      "source": [
        "### <font color='orange'>**12) Considere que a tabela itens_pedido armazene o valor de quantidade e de preço unitário de cada item pedido. Os cliente gastaram quanto em cada item pedido? Em outras palavras, qual é o valor total de cada item pedido?**</font>"
      ],
      "metadata": {
        "id": "WaI-9Y-zWoOh"
      }
    },
    {
      "cell_type": "code",
      "source": [
        "# Solução aqui\n",
        "\n"
      ],
      "metadata": {
        "id": "UCzPK0DUWoOi"
      },
      "execution_count": null,
      "outputs": []
    },
    {
      "cell_type": "markdown",
      "source": [
        "### <font color='orange'>**13) Agora que você encontrou o valor total de cada item_pedido, responda: qual é a soma total de todos esses valores?**</font>"
      ],
      "metadata": {
        "id": "KsLJj0HuWoVK"
      }
    },
    {
      "cell_type": "code",
      "source": [
        "# Solução aqui\n",
        "\n"
      ],
      "metadata": {
        "id": "zACmhzoaWoVK"
      },
      "execution_count": null,
      "outputs": []
    },
    {
      "cell_type": "markdown",
      "source": [
        "### <font color='orange'>**14) Quais livros são mais pedidos pelos clientes em ordem decrescente?**</font>"
      ],
      "metadata": {
        "id": "7hmGyuz9WoX8"
      }
    },
    {
      "cell_type": "code",
      "source": [
        "# Solução aqui\n",
        "\n"
      ],
      "metadata": {
        "id": "GHA1Tt6EWoX8"
      },
      "execution_count": null,
      "outputs": []
    },
    {
      "cell_type": "markdown",
      "source": [
        "### <font color='orange'>**15) Qual é a quantidade de livros por editora?**</font>"
      ],
      "metadata": {
        "id": "WUwmcG1OWobI"
      }
    },
    {
      "cell_type": "code",
      "source": [
        "# Solução aqui\n",
        "\n"
      ],
      "metadata": {
        "id": "MxOvMLxJWobJ"
      },
      "execution_count": null,
      "outputs": []
    },
    {
      "cell_type": "markdown",
      "source": [
        "### <font color='orange'>**16) Determine os títulos dos livros e a quantidade no estoque.**</font>"
      ],
      "metadata": {
        "id": "5dqHYbsUWod9"
      }
    },
    {
      "cell_type": "code",
      "source": [
        "# Solução aqui\n",
        "\n"
      ],
      "metadata": {
        "id": "Qadub5ZrWod9"
      },
      "execution_count": null,
      "outputs": []
    },
    {
      "cell_type": "markdown",
      "source": [
        "### <font color='orange'>**17) Determine os nomes das editoras e a quantidade de livros no estoque.**</font>"
      ],
      "metadata": {
        "id": "X-0i-MVWWogp"
      }
    },
    {
      "cell_type": "code",
      "source": [
        "# Solução aqui\n",
        "\n"
      ],
      "metadata": {
        "id": "qVPjc2MEWogq"
      },
      "execution_count": null,
      "outputs": []
    },
    {
      "cell_type": "markdown",
      "source": [
        "### <font color='orange'>**18) Determine os nomes dos livros mais pedidos pelos clientes. Coloque a quantidade em ordem decrescente.**</font>"
      ],
      "metadata": {
        "id": "KeQUax8HWojd"
      }
    },
    {
      "cell_type": "code",
      "source": [
        "# Solução aqui\n",
        "\n"
      ],
      "metadata": {
        "id": "-DpKe9JlWojd"
      },
      "execution_count": null,
      "outputs": []
    },
    {
      "cell_type": "markdown",
      "source": [
        "### <font color='orange'>**19) Determine quais são os livros de cada editora. Em outras palavras quais livros são de quais editoras?**</font>"
      ],
      "metadata": {
        "id": "6UzGaHVTWomI"
      }
    },
    {
      "cell_type": "code",
      "source": [
        "# Solução aqui\n",
        "\n"
      ],
      "metadata": {
        "id": "SM0nFIxyWomJ"
      },
      "execution_count": null,
      "outputs": []
    }
  ]
}
