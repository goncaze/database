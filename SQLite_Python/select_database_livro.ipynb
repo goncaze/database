{
  "nbformat": 4,
  "nbformat_minor": 0,
  "metadata": {
    "colab": {
      "provenance": [],
      "collapsed_sections": [
        "25A_ykte7yir",
        "P1rAolM5sHep",
        "_ijkpSXttTey",
        "XWlHZ7MLsmPn",
        "5K35FyeNt4Yi",
        "6ctPq05ZtStz",
        "25rVobMAtTzr",
        "gqd5IeqewmyR",
        "d5R2-Hrtt42c",
        "rd5OPRAnsld5",
        "hXUAZvlE8acX",
        "DjLcQUh28acY"
      ],
      "include_colab_link": true
    },
    "kernelspec": {
      "name": "python3",
      "display_name": "Python 3"
    },
    "language_info": {
      "name": "python"
    }
  },
  "cells": [
    {
      "cell_type": "markdown",
      "metadata": {
        "id": "view-in-github",
        "colab_type": "text"
      },
      "source": [
        "<a href=\"https://colab.research.google.com/github/goncaze/database/blob/main/SQLite_Python/select_database_livro.ipynb\" target=\"_parent\"><img src=\"https://colab.research.google.com/assets/colab-badge.svg\" alt=\"Open In Colab\"/></a>"
      ]
    },
    {
      "cell_type": "markdown",
      "source": [
        "---\n",
        "# <font color='ocean' align='center'>__SELECT com SQLite3 and Built-in Aggregate Functions__</font>\n",
        "---\n",
        "\n",
        "### Neste notebook iremos aprender mais a respeito da instrução SELECT e para isto usaremos um novo banco de dados denominado de livro_db.\n",
        "\n",
        "* Documentação: https://sqlite.org/lang_select.html\n",
        "* Documentação: https://sqlite.org/lang_aggfunc.html\n",
        "* Documentação: https://docs.python.org/pt-br/3.12/library/sqlite3.html\n",
        "<br><br>\n"
      ],
      "metadata": {
        "id": "25A_ykte7yir"
      }
    },
    {
      "cell_type": "code",
      "execution_count": null,
      "metadata": {
        "id": "pz2vUHZym6DI"
      },
      "outputs": [],
      "source": [
        "import sqlite3\n",
        "\n",
        "\n",
        "class Database:\n",
        "\n",
        "    def __init__(self) -> None:\n",
        "        self.conexao: sqlite3.Connection = None\n",
        "        self.cursor: sqlite3.Cursor = None\n",
        "\n",
        "    # -----------------------------------------------------------------------\n",
        "    def executar_sql(self, sql: str, parametros: tuple = ()) -> sqlite3.Cursor:\n",
        "        \"\"\"\n",
        "        Método que executa as instruções SQL\n",
        "        Retorna um cursor com o resultado do banco de dados\n",
        "        \"\"\"\n",
        "        # Cria uma conexão com o arquivo de banco de dados\n",
        "        with sqlite3.connect(\"./livros_db.db\", check_same_thread=True) as self.conexao:\n",
        "            # Obter um cursor a partir da conexão\n",
        "            self.cursor = self.conexao.cursor()\n",
        "            # Executa a instrução sql com os parâmetros fornecidos\n",
        "            self.cursor.execute(sql, parametros)\n",
        "            # Confirma a alteração de estado do banco de dados\n",
        "            self.conexao.commit()\n",
        "        # Retorna o cursor contendo o resultado da execução sql/parâmetros\n",
        "        return self.cursor"
      ]
    },
    {
      "cell_type": "code",
      "source": [
        "dbs = Database()"
      ],
      "metadata": {
        "id": "Saq_tcigoBpb"
      },
      "execution_count": null,
      "outputs": []
    },
    {
      "cell_type": "markdown",
      "source": [
        "## <font color='ocean'>__CRIAR TABELAS__</font>\n",
        "\n",
        "Documentação: https://www.sqlite.org/lang_createtable.html"
      ],
      "metadata": {
        "id": "P1rAolM5sHep"
      }
    },
    {
      "cell_type": "markdown",
      "source": [
        "### <font color='orange'>**Criar tabelas**</font>\n",
        "+ Apenas execute o comando sql a seguir:"
      ],
      "metadata": {
        "id": "_ijkpSXttTey"
      }
    },
    {
      "cell_type": "code",
      "source": [
        "sql1 = \"\"\"\n",
        "    CREATE TABLE IF NOT EXISTS cliente (\n",
        "        cod_cliente INTEGER PRIMARY KEY,\n",
        "        nome TEXT,\n",
        "        telefone1 TEXT,\n",
        "        telefone2 TEXT,\n",
        "        rua TEXT,\n",
        "        bairro TEXT,\n",
        "        cidade TEXT,\n",
        "        estado TEXT,\n",
        "        email TEXT\n",
        "    );\n",
        "\"\"\"\n",
        "\n",
        "sql2 = \"\"\"\n",
        "    CREATE TABLE IF NOT EXISTS livro (\n",
        "        cod_livro INTEGER PRIMARY KEY,\n",
        "        cod_editora INTEGER,\n",
        "        valor REAL,\n",
        "        catgoria TEXT,\n",
        "        titulo TEXT,\n",
        "        nome_autor TEXT,\n",
        "        ano_publicacao INTEGER,\n",
        "        ISBN TEXT,\n",
        "        FOREIGN KEY(cod_editora) REFERENCES editora(cod_editora)\n",
        "    );\n",
        "\"\"\"\n",
        "\n",
        "sql3 = \"\"\"\n",
        "    CREATE TABLE IF NOT EXISTS estoque (\n",
        "        cod_livro INTEGER PRIMARY KEY,\n",
        "        qtde_estoque INTEGER,\n",
        "        FOREIGN KEY(cod_livro) REFERENCES livro(cod_livro)\n",
        "    );\n",
        "\"\"\"\n",
        "\n",
        "sql4 = \"\"\"\n",
        "    CREATE TABLE IF NOT EXISTS editora (\n",
        "        cod_editora INTEGER PRIMARY KEY,\n",
        "        telefone1 TEXT,\n",
        "        telefone2 TEXT,\n",
        "        nome TEXT,\n",
        "        email TEXT,\n",
        "        consultor_vendas TEXT\n",
        "    );\n",
        "\"\"\"\n",
        "\n",
        "sql5 = \"\"\"\n",
        "    CREATE TABLE IF NOT EXISTS pedido (\n",
        "        cod_pedido INTEGER PRIMARY KEY,\n",
        "        cod_cliente INTEGER,\n",
        "        Data date,\n",
        "        valor_pedido REAL,\n",
        "        FOREIGN KEY(cod_cliente) REFERENCES cliente(cod_cliente)\n",
        "    );\n",
        "\"\"\"\n",
        "\n",
        "sql6 = \"\"\"\n",
        "    CREATE TABLE IF NOT EXISTS itens_pedido (\n",
        "        cod_pedido INTEGER,\n",
        "        cod_livro INTEGER,\n",
        "        quantidade INTEGER,\n",
        "        valor_unitario REAL,\n",
        "        PRIMARY KEY (cod_livro, cod_pedido),\n",
        "        FOREIGN KEY(cod_pedido) REFERENCES pedido(cod_pedido),\n",
        "        FOREIGN KEY(cod_livro) REFERENCES livro(cod_livro)\n",
        "    );\n",
        "\"\"\"\n",
        "\n",
        "lista_sql = [sql1, sql2, sql3, sql4, sql5, sql6]\n",
        "\n",
        "for sql in lista_sql:\n",
        "    dbs.executar_sql(sql)\n",
        "\n"
      ],
      "metadata": {
        "id": "CFd7tqWJtTez"
      },
      "execution_count": null,
      "outputs": []
    },
    {
      "cell_type": "markdown",
      "source": [
        "## <font color='ocean'>__LISTAR TABELAS__</font>"
      ],
      "metadata": {
        "id": "f5sy9-m-tWlP"
      }
    },
    {
      "cell_type": "code",
      "source": [
        "sql = \" SELECT name FROM sqlite_schema WHERE type='table' ORDER BY name\"\n",
        "\n",
        "for i in dbs.executar_sql(sql):\n",
        "    print(i[0])"
      ],
      "metadata": {
        "id": "fO9_k6MbyWxy"
      },
      "execution_count": null,
      "outputs": []
    },
    {
      "cell_type": "markdown",
      "source": [
        "## <font color='ocean'>__INSERÇÃO DE DADOS GERADOS PELO CHATGPT__</font>"
      ],
      "metadata": {
        "id": "zo5_kRsZzn5k"
      }
    },
    {
      "cell_type": "code",
      "source": [
        "sql1 = \"\"\"\n",
        "INSERT INTO cliente (nome, telefone1, telefone2, rua, bairro, cidade, estado, email) VALUES\n",
        "('João Silva', '987654321', '912345678', 'Rua das Flores', 'Centro', 'São Paulo', 'SP', 'joao.silva@email.com'),\n",
        "('Maria Santos', '987654322', '912345679', 'Av. Paulista', 'Bela Vista', 'São Paulo', 'SP', 'maria.santos@email.com'),\n",
        "('Pedro Oliveira', '987654323', NULL, 'Rua A', 'Jardins', 'Rio de Janeiro', 'RJ', 'pedro.oliveira@email.com'),\n",
        "('Lucas Almeida', '987654324', '912345680', 'Rua B', 'Copacabana', 'Rio de Janeiro', 'RJ', 'lucas.almeida@email.com'),\n",
        "('Carla Souza', '987654325', '912345681', 'Rua C', 'Leblon', 'Rio de Janeiro', 'RJ', 'carla.souza@email.com'),\n",
        "('Rafael Lima', '987654326', NULL, 'Rua D', 'Centro', 'Belo Horizonte', 'MG', 'rafael.lima@email.com'),\n",
        "('Juliana Pereira', '987654327', '912345682', 'Rua E', 'Savassi', 'Belo Horizonte', 'MG', 'juliana.pereira@email.com'),\n",
        "('Renato Costa', '987654328', '912345683', 'Rua F', 'Centro', 'Curitiba', 'PR', 'renato.costa@email.com'),\n",
        "('Beatriz Barros', '987654329', '912345684', 'Rua G', 'Batel', 'Curitiba', 'PR', 'beatriz.barros@email.com'),\n",
        "('Fernando Rocha', '987654330', '912345685', 'Rua H', 'Centro', 'Porto Alegre', 'RS', 'fernando.rocha@email.com'),\n",
        "('Clara Fonseca', '987654331', '912345686', 'Rua I', 'Centro', 'São Paulo', 'SP', 'clara.fonseca@email.com'),\n",
        "('Paulo Ribeiro', '987654332', '912345687', 'Rua J', 'Moema', 'São Paulo', 'SP', 'paulo.ribeiro@email.com'),\n",
        "('Fernanda Moreira', '987654333', '912345688', 'Rua K', 'Vila Mariana', 'São Paulo', 'SP', 'fernanda.moreira@email.com'),\n",
        "('Carlos Mendes', '989654321', '989123456', 'Rua dos Cajueiros', 'Cohatrac', 'São Luís', 'MA', 'carlos.mendes@email.com'),\n",
        "('Ana Clara Sousa', '989654322', NULL, 'Rua dos Buritis', 'Calhau', 'São Luís', 'MA', 'ana.sousa@email.com'),\n",
        "('José Lima', '989654323', '989123457', 'Avenida dos Holandeses', 'Ponta do Farol', 'São Luís', 'MA', 'jose.lima@email.com'),\n",
        "('Fernanda Silva', '989654324', NULL, 'Rua Grande', 'Centro', 'São Luís', 'MA', 'fernanda.silva@email.com'),\n",
        "('Ricardo Costa', '989654325', '989123458', 'Avenida Getúlio Vargas', 'Monte Castelo', 'São Luís', 'MA', 'ricardo.costa@email.com'),\n",
        "('Raimundo Rocha', '989654326', '989123459', 'Rua do Passeio', 'Centro', 'Caxias', 'MA', 'raimundo.rocha@email.com'),\n",
        "('Juliana Oliveira', '989654327', NULL, 'Rua das Flores', 'Centro', 'Imperatriz', 'MA', 'juliana.oliveira@email.com'),\n",
        "('Marcos Andrade', '989654328', '989123460', 'Rua do Comércio', 'Bacuri', 'Imperatriz', 'MA', 'marcos.andrade@email.com'),\n",
        "('Patrícia Farias', '989654329', '989123461', 'Rua do Sol', 'Centro', 'Timon', 'MA', 'patricia.farias@email.com'),\n",
        "('Daniela Sousa', '989654330', NULL, 'Avenida Santos Dumont', 'Vila Lobão', 'Timon', 'MA', 'daniela.sousa@email.com');\n",
        "\"\"\"\n",
        "\n",
        "# dbs.executar_sql(sql1)\n",
        "\n",
        "sql2 = \"\"\"\n",
        "  INSERT INTO editora (cod_editora, telefone1, telefone2, nome, email, consultor_vendas) VALUES\n",
        "  (1, '987655432', '912346789', 'Editora Abril', 'contato@editoraabril.com', 'Fernanda Lima'),\n",
        "  (2, '987655433', '987655433', 'Editora Globo', 'contato@editoraglobo.com', 'Carlos Souza'),\n",
        "  (3, '987655434', '912346780', 'Editora Moderna', 'contato@editoramoderna.com', 'Paula Mendes'),\n",
        "  (4, '987655435', '912346781', 'Editora Saraiva', 'contato@saraiva.com', 'Marcos Silva'),\n",
        "  (5, '987655436', '912346782', 'Editora Atlas', 'contato@editoraatlas.com', 'Luciana Costa'),\n",
        "  (6, '987655437', '912346783', 'Editora FGV', 'contato@fgv.com', 'Fábio Almeida'),\n",
        "  (7, '987655438', '987655438', 'Editora Senac', 'contato@senac.com', 'Carla Menezes'),\n",
        "  (8, '987655439', '912346784', 'Editora Blucher', 'contato@blucher.com', 'Rafael Dias'),\n",
        "  (9, '987655440', '912346785', 'Editora Loyola', 'contato@loyola.com', 'Amanda Santos'),\n",
        "  (10, '987655441', '912346786', 'Editora Nobel', 'contato@nobel.com', 'Eduardo Pereira'),\n",
        "  (11, '987655442', '912346787', 'Editora Juspodivm', 'contato@juspodivm.com', 'Thiago Castro'),\n",
        "  (12, '987655443', '912346788', 'Editora Zahar', 'contato@editorazahar.com', 'Mariana Lopes'),\n",
        "  (13, '987655444', '912346789', 'Editora Contexto', 'contato@editoracontexto.com', 'Rodrigo Tavares');\n",
        "\"\"\"\n",
        "\n",
        "# dbs.executar_sql(sql2)\n",
        "\n",
        "sql3 = \"\"\"\n",
        "  INSERT INTO livro (cod_livro, cod_editora, valor, catgoria, titulo, nome_autor, ano_publicacao, ISBN) VALUES\n",
        "  (1, 1, 29.90, 'Ficção', 'A Jornada', 'Ana Costa', 2020, '978-3-16-148410-0'),\n",
        "  (2, 2, 39.90, 'Romance', 'Amor em Tempos Modernos', 'Carlos Ribeiro', 2021, '978-1-86197-876-9'),\n",
        "  (3, 3, 49.90, 'Ciência', 'O Universo', 'Maria Pereira', 2019, '978-0-545-01022-1'),\n",
        "  (4, 4, 19.90, 'Biografia', 'Minha História', 'Paulo Moreira', 2022, '978-3-598-21500-1'),\n",
        "  (5, 5, 59.90, 'Autoajuda', 'Pense Positivo', 'Fernando Santos', 2018, '978-3-16-148411-7'),\n",
        "  (6, 6, 45.00, 'Negócios', 'Empreenda!', 'Lucas Neves', 2021, '978-1-4028-9462-6'),\n",
        "  (7, 7, 34.90, 'História', 'A Segunda Guerra Mundial', 'Júlia Barros', 2020, '978-1-56619-909-4'),\n",
        "  (8, 8, 24.90, 'Geografia', 'Geografia Global', 'Leonardo Souza', 2019, '978-0-393-97322-4'),\n",
        "  (9, 9, 55.00, 'Tecnologia', 'Inteligência Artificial', 'Rodrigo Silva', 2022, '978-0-8047-3420-2'),\n",
        "  (10, 10, 22.50, 'Educação', 'Aprender a Aprender', 'Rosa Mello', 2020, '978-0-06-093546-7'),\n",
        "  (11, 1, 27.50, 'Autoajuda', 'O Poder da Mente', 'Sandra Alves', 2017, '978-3-16-148412-4'),\n",
        "  (12, 2, 42.90, 'Filosofia', 'Pensamentos que Transformam', 'Leandro Guedes', 2022, '978-1-84356-028-3'),\n",
        "  (13, 3, 29.00, 'História', 'Guerras Mundiais', 'Luiza Castro', 2020, '978-0-7356-6745-2'),\n",
        "  (14, 2, 39.90, 'Romance', 'O Mistério do Tempo', 'Carla Freitas', 2019, '978-0-394-52372-5'),\n",
        "  (15, 1, 45.50, 'Ciência', 'Explorando o Universo', 'João Paes', 2021, '978-0-451-52810-4'),\n",
        "  (16, 3, 25.00, 'História', 'O Antigo Egito', 'Fernanda Cardoso', 2018, '978-0-330-48448-9'),\n",
        "  (17, 4, 55.70, 'Psicologia', 'Entendendo a Mente Humana', 'Maria Lopes', 2022, '978-1-250-08400-3'),\n",
        "  (18, 2, 32.90, 'Autoajuda', 'Caminho para a Felicidade', 'Carlos Souza', 2020, '978-0-307-59428-2'),\n",
        "  (19, 5, 29.90, 'Tecnologia', 'Inteligência Artificial', 'Rafael Lima', 2023, '978-0-099-95902-2'),\n",
        "  (20, 3, 42.00, 'Negócios', 'Estratégias de Sucesso', 'Patrícia Azevedo', 2017, '978-1-4391-2821-4'),\n",
        "  (21, 1, 38.50, 'Filosofia', 'Pensamentos sobre a Vida', 'Luiz Silva', 2021, '978-1-4767-5800-7'),\n",
        "  (22, 2, 40.75, 'Saúde', 'Nutrição e Bem-Estar', 'André Martins', 2019, '978-0-06-231610-3'),\n",
        "  (23, 4, 50.90, 'Biografia', 'A Jornada de um Cientista', 'Bruno Costa', 2022, '978-0-385-74357-9');\n",
        "\"\"\"\n",
        "\n",
        "# dbs.executar_sql(sql3)\n",
        "\n",
        "\n",
        "sql4 = \"\"\"\n",
        "INSERT INTO estoque (cod_livro, qtde_estoque) VALUES\n",
        "(1, 15), (2, 10), (3, 5), (4, 20), (5, 8), (6, 12), (7, 18), (8, 22), (9, 14), (10, 25),\n",
        "(11, 20), (12, 25), (13, 18), (14, 10), (15, 15), (16, 8), (17, 7), (18, 18), (19, 4), (20, 5), (21, 8),\n",
        "(22, 7), (23, 1);\n",
        "\"\"\"\n",
        "\n",
        "# dbs.executar_sql(sql4)\n",
        "\n",
        "sql5 = \"\"\"\n",
        "INSERT INTO pedido (cod_pedido, cod_cliente, Data, valor_pedido) VALUES\n",
        "(1, 1, '2024-11-01', 59.80),\n",
        "(2, 2, '2024-11-02', 29.90),\n",
        "(3, 3, '2024-11-03', 49.90),\n",
        "(4, 4, '2024-11-04', 19.90),\n",
        "(5, 5, '2024-11-05', 89.90),\n",
        "(6, 6, '2024-11-06', 34.90),\n",
        "(7, 7, '2024-11-07', 24.90),\n",
        "(8, 8, '2024-11-08', 99.90),\n",
        "(9, 9, '2024-11-09', 119.90),\n",
        "(10, 10, '2024-11-10', 55.50),\n",
        "(11, 1, '2024-11-11', 85.00),\n",
        "(12, 3, '2024-11-12', 60.50),\n",
        "(13, 5, '2024-11-13', 95.70),\n",
        "(14, 1, '2024-11-14', 85.70),\n",
        "(15, 3, '2024-11-15', 120.45),\n",
        "(16, 5, '2024-11-16', 54.90),\n",
        "(17, 7, '2024-11-17', 100.50),\n",
        "(18, 9, '2024-11-18', 89.75),\n",
        "(19, 2, '2024-11-19', 65.30),\n",
        "(20, 4, '2024-11-20', 150.20),\n",
        "(21, 6, '2024-11-21', 73.15),\n",
        "(22, 8, '2024-11-22', 132.90),\n",
        "(23, 10, '2024-11-23', 90.80);\n",
        "\"\"\"\n",
        "\n",
        "# dbs.executar_sql(sql5)\n",
        "\n",
        "sql6 = \"\"\"\n",
        "  INSERT INTO itens_pedido (cod_pedido, cod_livro, quantidade, valor_unitario) VALUES\n",
        "  (1, 1, 1, 29.90), (1, 2, 1, 29.90), (2, 3, 1, 29.90),\n",
        "  (3, 4, 2, 19.90), (4, 5, 1, 59.90), (5, 6, 1, 45.00),\n",
        "  (5, 7, 1, 34.90), (6, 8, 1, 24.90), (7, 9, 1, 55.00),\n",
        "  (7, 10, 1, 22.50), (8, 1, 1, 29.90), (8, 3, 1, 49.90),\n",
        "  (8, 5, 1, 59.90),  (11, 11, 1, 27.50), (11, 12, 1, 42.90),\n",
        "  (12, 13, 1, 29.00), (12, 1, 1, 29.90), (13, 5, 1, 59.90),\n",
        "  (13, 6, 1, 45.00), (21, 1, '2024-11-14', 85.70),\n",
        "  (22, 3, '2024-11-15', 120.45),\n",
        "  (23, 5, '2024-11-16', 54.90),\n",
        "  (14, 7, '2024-11-17', 100.50),\n",
        "  (15, 9, '2024-11-18', 89.75),\n",
        "  (16, 2, '2024-11-19', 65.30),\n",
        "  (17, 4, '2024-11-20', 150.20),\n",
        "  (18, 6, '2024-11-21', 73.15),\n",
        "  (19, 8, '2024-11-22', 132.90),\n",
        "  (10, 10, '2024-11-23', 90.80);\n",
        "\n",
        "\"\"\"\n",
        "\n",
        "# dbs.executar_sql(sql6)\n",
        "\n",
        "lista_sql = [sql1, sql2, sql3, sql4, sql5, sql6]\n",
        "\n",
        "for sql in lista_sql:\n",
        "    dbs.executar_sql(sql)\n"
      ],
      "metadata": {
        "id": "VeDmVIAklI_s"
      },
      "execution_count": null,
      "outputs": []
    },
    {
      "cell_type": "markdown",
      "source": [
        "### <font color='orange'>**ALGUNS SELECTS PARA CONFIRMAR A INSERÇÃO DE DADOS**</font>"
      ],
      "metadata": {
        "id": "afHOqXZ07Exg"
      }
    },
    {
      "cell_type": "code",
      "source": [
        "sql = \"SELECT * FROM cliente;\"\n",
        "\n",
        "print(\"ID\\t NOME\")\n",
        "for i in dbs.executar_sql(sql):\n",
        "    print(f\"{i[0]}\\t {i[1]}\")"
      ],
      "metadata": {
        "id": "AIH0YEa7pHdb"
      },
      "execution_count": null,
      "outputs": []
    },
    {
      "cell_type": "code",
      "source": [
        "sql = \"SELECT * FROM editora;\"\n",
        "\n",
        "print(\"ID\\t NOME\")\n",
        "for i in dbs.executar_sql(sql):\n",
        "    print(f\"{i[0]}\\t {i[3]}\")"
      ],
      "metadata": {
        "id": "GRmlVk9aqUdK"
      },
      "execution_count": null,
      "outputs": []
    },
    {
      "cell_type": "code",
      "source": [
        "sql = \"SELECT * FROM livro;\"\n",
        "\n",
        "print(\"ID\\t NOME\")\n",
        "for i in dbs.executar_sql(sql):\n",
        "    print(f\"{i[0]}\\t {i[4]}\")"
      ],
      "metadata": {
        "id": "PTyLAvbCqya5"
      },
      "execution_count": null,
      "outputs": []
    },
    {
      "cell_type": "code",
      "source": [
        "sql = \"SELECT sql FROM sqlite_schema WHERE name='cliente'\"\n",
        "\n",
        "for i in dbs.executar_sql(sql):\n",
        "    print(i[0])"
      ],
      "metadata": {
        "id": "bgwc_V1d0sKG"
      },
      "execution_count": null,
      "outputs": []
    },
    {
      "cell_type": "markdown",
      "source": [
        "# <font color=\"ocean\" align='center'>**ATIVIDADE DE PESQUISA E REALIZAÇÃO DE EXERCÍCIOS**</font>\n",
        "# <font color=\"yellow\" align='center'>**ATIVIDADE DE PESQUISA E REALIZAÇÃO DE EXERCÍCIOS**</font>\n",
        "# <font color=\"blue\" align='center'>**ATIVIDADE DE PESQUISA E REALIZAÇÃO DE EXERCÍCIOS**</font>"
      ],
      "metadata": {
        "id": "MTM3qP_gICTC"
      }
    },
    {
      "cell_type": "markdown",
      "source": [
        "### <font color='orange'>**01) Quantos clientes a livraria tem cadastrados?**</font>\n"
      ],
      "metadata": {
        "id": "A_Fo8mJou-TS"
      }
    },
    {
      "cell_type": "code",
      "source": [
        "### Solução aqui\n",
        "\n"
      ],
      "metadata": {
        "id": "oK7sdfcCU4Pp"
      },
      "execution_count": null,
      "outputs": []
    },
    {
      "cell_type": "markdown",
      "source": [
        "### <font color='orange'>**02) Quantas editoras estão cadastradas?**</font>\n"
      ],
      "metadata": {
        "id": "SeBbn_5du-lU"
      }
    },
    {
      "cell_type": "code",
      "source": [
        "### Solução aqui\n",
        "\n"
      ],
      "metadata": {
        "id": "dBIPWaTXu-lV"
      },
      "execution_count": null,
      "outputs": []
    },
    {
      "cell_type": "markdown",
      "source": [
        "### <font color='orange'>**03) Quantos livros estão cadastrados?**</font>"
      ],
      "metadata": {
        "id": "9CamG2mS_GtU"
      }
    },
    {
      "cell_type": "code",
      "source": [
        "# Solução aqui\n",
        "\n"
      ],
      "metadata": {
        "id": "lLCfi1qqK2qc"
      },
      "execution_count": null,
      "outputs": []
    },
    {
      "cell_type": "markdown",
      "source": [
        "### <font color='orange'>**04) Quantos livros tem no estoque?**</font>"
      ],
      "metadata": {
        "id": "Cmr6EmVqVf3c"
      }
    },
    {
      "cell_type": "code",
      "source": [
        "# Solução aqui\n",
        "\n"
      ],
      "metadata": {
        "id": "a0EkUdgnVf3e"
      },
      "execution_count": null,
      "outputs": []
    },
    {
      "cell_type": "markdown",
      "source": [
        "### <font color='orange'>**05) Quantos pedidos foram realizados?**</font>"
      ],
      "metadata": {
        "id": "2pZBtEZ0Vpwr"
      }
    },
    {
      "cell_type": "code",
      "source": [
        "# Solução aqui\n",
        "\n"
      ],
      "metadata": {
        "id": "xf1naiq0Vpws"
      },
      "execution_count": null,
      "outputs": []
    },
    {
      "cell_type": "markdown",
      "source": [
        "### <font color='orange'>**06) Quantos livros foram vendidos?**</font>"
      ],
      "metadata": {
        "id": "Nypc6P-zWI3i"
      }
    },
    {
      "cell_type": "code",
      "source": [
        "# Solução aqui\n",
        "\n"
      ],
      "metadata": {
        "id": "L2fDUIlQWI3j"
      },
      "execution_count": null,
      "outputs": []
    },
    {
      "cell_type": "markdown",
      "source": [
        "### <font color='orange'>**07) Qual é a quantidade por livro no estoque?**</font>"
      ],
      "metadata": {
        "id": "uy3VMNhYWI70"
      }
    },
    {
      "cell_type": "code",
      "source": [
        "# Solução aqui\n",
        "\n"
      ],
      "metadata": {
        "id": "InhwiIsFWI70"
      },
      "execution_count": null,
      "outputs": []
    },
    {
      "cell_type": "markdown",
      "source": [
        "### <font color='orange'>**08) Determine o número de livros que são da categoria \"Ciência de Dados\".**</font>"
      ],
      "metadata": {
        "id": "evE0U3qrWI_i"
      }
    },
    {
      "cell_type": "code",
      "source": [
        "# Solução aqui\n",
        "\n"
      ],
      "metadata": {
        "id": "b_g_LRITWI_j"
      },
      "execution_count": null,
      "outputs": []
    },
    {
      "cell_type": "markdown",
      "source": [
        "### <font color='orange'>**09) Determine o número de livros que não são da categoria \"Ciência de Dados\".**</font>"
      ],
      "metadata": {
        "id": "9-otobOjWJDj"
      }
    },
    {
      "cell_type": "code",
      "source": [
        "# Solução aqui\n",
        "\n"
      ],
      "metadata": {
        "id": "Z8eFKPaCWJDk"
      },
      "execution_count": null,
      "outputs": []
    },
    {
      "cell_type": "markdown",
      "source": [
        "### <font color='orange'>**10) Determine o número de categorias de livros atualmente existente no banco de dados.**</font>"
      ],
      "metadata": {
        "id": "0m9wCnFhWJIA"
      }
    },
    {
      "cell_type": "code",
      "source": [
        "# Solução aqui\n",
        "\n"
      ],
      "metadata": {
        "id": "tpodSU0NWJIA"
      },
      "execution_count": null,
      "outputs": []
    },
    {
      "cell_type": "markdown",
      "source": [
        "### <font color='orange'>**11) Qual é o número de livros por categoria?**</font>"
      ],
      "metadata": {
        "id": "nprIUMlzWlNI"
      }
    },
    {
      "cell_type": "code",
      "source": [
        "# Solução aqui\n",
        "\n"
      ],
      "metadata": {
        "id": "UTpUQNtSWlNJ"
      },
      "execution_count": null,
      "outputs": []
    },
    {
      "cell_type": "markdown",
      "source": [
        "### <font color='orange'>**12) Considere que a tabela itens_pedido armazene o valor de quantidade e de preço unitário de cada item pedido. Os cliente gastaram quanto em cada item pedido? Em outras palavras, qual é o valor total de cada item pedido?**</font>"
      ],
      "metadata": {
        "id": "WaI-9Y-zWoOh"
      }
    },
    {
      "cell_type": "code",
      "source": [
        "# Solução aqui\n",
        "\n"
      ],
      "metadata": {
        "id": "UCzPK0DUWoOi"
      },
      "execution_count": null,
      "outputs": []
    },
    {
      "cell_type": "markdown",
      "source": [
        "### <font color='orange'>**13) Agora que você encontrou o valor total de cada item_pedido, responda: qual é a soma total de todos esses valores?**</font>"
      ],
      "metadata": {
        "id": "KsLJj0HuWoVK"
      }
    },
    {
      "cell_type": "code",
      "source": [
        "# Solução aqui\n",
        "\n"
      ],
      "metadata": {
        "id": "zACmhzoaWoVK"
      },
      "execution_count": null,
      "outputs": []
    },
    {
      "cell_type": "markdown",
      "source": [
        "### <font color='orange'>**14) Quais livros são mais pedidos pelos clientes em ordem decrescente?**</font>"
      ],
      "metadata": {
        "id": "7hmGyuz9WoX8"
      }
    },
    {
      "cell_type": "code",
      "source": [
        "# Solução aqui\n",
        "\n"
      ],
      "metadata": {
        "id": "GHA1Tt6EWoX8"
      },
      "execution_count": null,
      "outputs": []
    },
    {
      "cell_type": "markdown",
      "source": [
        "### <font color='orange'>**15) Qual é a quantidade de livros por editora?**</font>"
      ],
      "metadata": {
        "id": "WUwmcG1OWobI"
      }
    },
    {
      "cell_type": "code",
      "source": [
        "# Solução aqui\n",
        "\n"
      ],
      "metadata": {
        "id": "MxOvMLxJWobJ"
      },
      "execution_count": null,
      "outputs": []
    },
    {
      "cell_type": "markdown",
      "source": [
        "### <font color='orange'>**16) Determine os títulos dos livros e a quantidade no estoque.**</font>"
      ],
      "metadata": {
        "id": "5dqHYbsUWod9"
      }
    },
    {
      "cell_type": "code",
      "source": [
        "# Solução aqui\n",
        "\n"
      ],
      "metadata": {
        "id": "Qadub5ZrWod9"
      },
      "execution_count": null,
      "outputs": []
    },
    {
      "cell_type": "markdown",
      "source": [
        "### <font color='orange'>**17) Determine os nomes das editoras e a quantidade de livros no estoque.**</font>"
      ],
      "metadata": {
        "id": "X-0i-MVWWogp"
      }
    },
    {
      "cell_type": "code",
      "source": [
        "# Solução aqui\n",
        "\n"
      ],
      "metadata": {
        "id": "qVPjc2MEWogq"
      },
      "execution_count": null,
      "outputs": []
    },
    {
      "cell_type": "markdown",
      "source": [
        "### <font color='orange'>**18) Determine os nomes dos livros mais pedidos pelos clientes. Coloque a quantidade em ordem decrescente.**</font>"
      ],
      "metadata": {
        "id": "KeQUax8HWojd"
      }
    },
    {
      "cell_type": "code",
      "source": [
        "# Solução aqui\n",
        "\n"
      ],
      "metadata": {
        "id": "-DpKe9JlWojd"
      },
      "execution_count": null,
      "outputs": []
    },
    {
      "cell_type": "markdown",
      "source": [
        "### <font color='orange'>**19) Determine quais são os livros de cada editora. Em outras palavras quais livros são de quais editoras?**</font>"
      ],
      "metadata": {
        "id": "6UzGaHVTWomI"
      }
    },
    {
      "cell_type": "code",
      "source": [
        "# Solução aqui\n",
        "\n"
      ],
      "metadata": {
        "id": "SM0nFIxyWomJ"
      },
      "execution_count": null,
      "outputs": []
    }
  ]
}