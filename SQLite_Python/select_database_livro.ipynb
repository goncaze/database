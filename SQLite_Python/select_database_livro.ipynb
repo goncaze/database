{
  "nbformat": 4,
  "nbformat_minor": 0,
  "metadata": {
    "colab": {
      "provenance": [],
      "collapsed_sections": [
        "25A_ykte7yir",
        "P1rAolM5sHep",
        "_ijkpSXttTey",
        "XWlHZ7MLsmPn",
        "5K35FyeNt4Yi",
        "6ctPq05ZtStz",
        "25rVobMAtTzr",
        "gqd5IeqewmyR",
        "d5R2-Hrtt42c",
        "rd5OPRAnsld5",
        "hXUAZvlE8acX",
        "DjLcQUh28acY"
      ],
      "include_colab_link": true
    },
    "kernelspec": {
      "name": "python3",
      "display_name": "Python 3"
    },
    "language_info": {
      "name": "python"
    }
  },
  "cells": [
    {
      "cell_type": "markdown",
      "metadata": {
        "id": "view-in-github",
        "colab_type": "text"
      },
      "source": [
        "<a href=\"https://colab.research.google.com/github/goncaze/database/blob/main/SQLite_Python/select_database_livro.ipynb\" target=\"_parent\"><img src=\"https://colab.research.google.com/assets/colab-badge.svg\" alt=\"Open In Colab\"/></a>"
      ]
    },
    {
      "cell_type": "markdown",
      "source": [
        "---\n",
        "# <font color='ocean' align='center'>__SELECT com SQLite3__</font>\n",
        "---\n",
        "\n",
        "### Neste notebook iremos aprender mais a respeito da instrução SELECT e para isto usaremos um novo banco de dados denominado de livro_db.\n",
        "\n",
        "Documentação: https://sqlite.org/lang_select.html\n",
        "\n",
        "Documentação: https://docs.python.org/pt-br/3.12/library/sqlite3.html"
      ],
      "metadata": {
        "id": "25A_ykte7yir"
      }
    },
    {
      "cell_type": "code",
      "execution_count": 1,
      "metadata": {
        "id": "pz2vUHZym6DI"
      },
      "outputs": [],
      "source": [
        "import sqlite3\n",
        "\n",
        "\n",
        "class Database:\n",
        "\n",
        "    def __init__(self) -> None:\n",
        "        self.conexao: sqlite3.Connection = None\n",
        "        self.cursor: sqlite3.Cursor = None\n",
        "\n",
        "    # -----------------------------------------------------------------------\n",
        "    def executar_sql(self, sql: str, parametros: tuple = ()) -> sqlite3.Cursor:\n",
        "        \"\"\"\n",
        "        Método que executa as instruções SQL\n",
        "        Retorna um cursor com o resultado do banco de dados\n",
        "        \"\"\"\n",
        "        # Cria uma conexão com o arquivo de banco de dados\n",
        "        with sqlite3.connect(\"./livros_db.db\", check_same_thread=True) as self.conexao:\n",
        "            # Obter um cursor a partir da conexão\n",
        "            self.cursor = self.conexao.cursor()\n",
        "            # Executa a instrução sql com os parâmetros fornecidos\n",
        "            self.cursor.execute(sql, parametros)\n",
        "            # Confirma a alteração de estado do banco de dados\n",
        "            self.conexao.commit()\n",
        "        # Retorna o cursor contendo o resultado da execução sql/parâmetros\n",
        "        return self.cursor"
      ]
    },
    {
      "cell_type": "code",
      "source": [
        "dbs = Database()"
      ],
      "metadata": {
        "id": "Saq_tcigoBpb"
      },
      "execution_count": 2,
      "outputs": []
    },
    {
      "cell_type": "markdown",
      "source": [
        "## <font color='ocean'>__CRIAR TABELAS__</font>\n",
        "\n",
        "Documentação: https://www.sqlite.org/lang_createtable.html"
      ],
      "metadata": {
        "id": "P1rAolM5sHep"
      }
    },
    {
      "cell_type": "markdown",
      "source": [
        "### <font color='orange'>**Criar tabelas**</font>\n",
        "+ Apenas execute o comando sql a seguir:"
      ],
      "metadata": {
        "id": "_ijkpSXttTey"
      }
    },
    {
      "cell_type": "code",
      "source": [
        "sql1 = \"\"\"\n",
        "    CREATE TABLE IF NOT EXISTS cliente (\n",
        "        cod_cliente INTEGER PRIMARY KEY,\n",
        "        nome TEXT,\n",
        "        telefone1 TEXT,\n",
        "        telefone2 TEXT,\n",
        "        rua TEXT,\n",
        "        bairro TEXT,\n",
        "        cidade TEXT,\n",
        "        estado TEXT,\n",
        "        email TEXT\n",
        "    );\n",
        "\"\"\"\n",
        "\n",
        "sql2 = \"\"\"\n",
        "    CREATE TABLE IF NOT EXISTS livro (\n",
        "        cod_livro INTEGER PRIMARY KEY,\n",
        "        cod_editora INTEGER,\n",
        "        valor REAL,\n",
        "        catgoria TEXT,\n",
        "        titulo TEXT,\n",
        "        nome_autor TEXT,\n",
        "        ano_publicacao INTEGER,\n",
        "        ISBN TEXT,\n",
        "        FOREIGN KEY(cod_editora) REFERENCES editora(cod_editora)\n",
        "    );\n",
        "\"\"\"\n",
        "\n",
        "sql3 = \"\"\"\n",
        "    CREATE TABLE IF NOT EXISTS estoque (\n",
        "        cod_livro INTEGER PRIMARY KEY,\n",
        "        qtde_estoque INTEGER,\n",
        "        FOREIGN KEY(cod_livro) REFERENCES livro(cod_livro)\n",
        "    );\n",
        "\"\"\"\n",
        "\n",
        "sql4 = \"\"\"\n",
        "    CREATE TABLE IF NOT EXISTS editora (\n",
        "        cod_editora INTEGER PRIMARY KEY,\n",
        "        telefone1 TEXT,\n",
        "        telefone2 TEXT,\n",
        "        nome TEXT,\n",
        "        email TEXT,\n",
        "        consultor_vendas TEXT\n",
        "    );\n",
        "\"\"\"\n",
        "\n",
        "sql5 = \"\"\"\n",
        "    CREATE TABLE IF NOT EXISTS pedido (\n",
        "        cod_pedido INTEGER PRIMARY KEY,\n",
        "        cod_cliente INTEGER,\n",
        "        Data date,\n",
        "        valor_pedido REAL,\n",
        "        FOREIGN KEY(cod_cliente) REFERENCES cliente(cod_cliente)\n",
        "    );\n",
        "\"\"\"\n",
        "\n",
        "sql6 = \"\"\"\n",
        "    CREATE TABLE IF NOT EXISTS itens_pedido (\n",
        "        cod_pedido INTEGER,\n",
        "        cod_livro INTEGER,\n",
        "        quantidade INTEGER,\n",
        "        valor_unitario REAL,\n",
        "        PRIMARY KEY (cod_livro, cod_pedido),\n",
        "        FOREIGN KEY(cod_pedido) REFERENCES pedido(cod_pedido),\n",
        "        FOREIGN KEY(cod_livro) REFERENCES livro(cod_livro)\n",
        "    );\n",
        "\"\"\"\n",
        "\n",
        "lista_sql = [sql1, sql2, sql3, sql4, sql5, sql6]\n",
        "\n",
        "for sql in lista_sql:\n",
        "    dbs.executar_sql(sql)\n",
        "\n"
      ],
      "metadata": {
        "id": "CFd7tqWJtTez"
      },
      "execution_count": 5,
      "outputs": []
    },
    {
      "cell_type": "markdown",
      "source": [
        "## <font color='ocean'>__LISTAR TABELAS__</font>"
      ],
      "metadata": {
        "id": "f5sy9-m-tWlP"
      }
    },
    {
      "cell_type": "code",
      "source": [
        "sql = \" SELECT name FROM sqlite_schema WHERE type='table' ORDER BY name\"\n",
        "\n",
        "for i in dbs.executar_sql(sql):\n",
        "    print(i[0])"
      ],
      "metadata": {
        "id": "fO9_k6MbyWxy",
        "outputId": "9d371fb3-b465-4b1a-f687-c36276ff105b",
        "colab": {
          "base_uri": "https://localhost:8080/"
        }
      },
      "execution_count": 6,
      "outputs": [
        {
          "output_type": "stream",
          "name": "stdout",
          "text": [
            "cliente\n",
            "editora\n",
            "estoque\n",
            "itens_pedido\n",
            "livro\n",
            "pedido\n"
          ]
        }
      ]
    },
    {
      "cell_type": "code",
      "source": [
        "sql = \"SELECT sql FROM sqlite_schema WHERE name='cliente'\"\n",
        "\n",
        "for i in dbs.executar_sql(sql):\n",
        "    print(i[0])"
      ],
      "metadata": {
        "id": "bgwc_V1d0sKG",
        "outputId": "6593df4c-ba6c-411f-dee6-4239a1a37723",
        "colab": {
          "base_uri": "https://localhost:8080/"
        }
      },
      "execution_count": 7,
      "outputs": [
        {
          "output_type": "stream",
          "name": "stdout",
          "text": [
            "CREATE TABLE cliente (\n",
            "    cod_cliente INTEGER PRIMARY KEY,\n",
            "    nome TEXT,\n",
            "    telefone1 TEXT,\n",
            "    telefone2 TEXT,\n",
            "    rua TEXT,\n",
            "    bairro TEXT,\n",
            "    cidade TEXT,\n",
            "    estado TEXT,\n",
            "    email TEXT\n",
            ")\n"
          ]
        }
      ]
    },
    {
      "cell_type": "markdown",
      "source": [
        "# <font color=\"ocean\" align='center'>**ATIVIDADE DE PESQUISA E REALIZAÇÃO DE EXERCÍCIOS**</font>\n",
        "# <font color=\"yellow\" align='center'>**ATIVIDADE DE PESQUISA E REALIZAÇÃO DE EXERCÍCIOS**</font>\n",
        "# <font color=\"blue\" align='center'>**ATIVIDADE DE PESQUISA E REALIZAÇÃO DE EXERCÍCIOS**</font>"
      ],
      "metadata": {
        "id": "MTM3qP_gICTC"
      }
    },
    {
      "cell_type": "markdown",
      "source": [
        "### <font color='orange'>**01) Quantos clientes a livraria tem cadastrados?**</font>\n"
      ],
      "metadata": {
        "id": "A_Fo8mJou-TS"
      }
    },
    {
      "cell_type": "code",
      "source": [
        "### Solução aqui\n",
        "\n"
      ],
      "metadata": {
        "id": "oK7sdfcCU4Pp"
      },
      "execution_count": null,
      "outputs": []
    },
    {
      "cell_type": "markdown",
      "source": [
        "### <font color='orange'>**02) Quantas editoras estão cadastradas?**</font>\n"
      ],
      "metadata": {
        "id": "SeBbn_5du-lU"
      }
    },
    {
      "cell_type": "code",
      "source": [
        "### Solução aqui\n",
        "\n"
      ],
      "metadata": {
        "id": "dBIPWaTXu-lV"
      },
      "execution_count": null,
      "outputs": []
    },
    {
      "cell_type": "markdown",
      "source": [
        "### <font color='orange'>**03) Quantos livros estão cadastrados?**</font>"
      ],
      "metadata": {
        "id": "9CamG2mS_GtU"
      }
    },
    {
      "cell_type": "code",
      "source": [
        "# Solução aqui\n",
        "\n"
      ],
      "metadata": {
        "id": "lLCfi1qqK2qc"
      },
      "execution_count": null,
      "outputs": []
    },
    {
      "cell_type": "markdown",
      "source": [
        "### <font color='orange'>**04) Quantos livros tem no estoque?**</font>"
      ],
      "metadata": {
        "id": "Cmr6EmVqVf3c"
      }
    },
    {
      "cell_type": "code",
      "source": [
        "# Solução aqui\n",
        "\n"
      ],
      "metadata": {
        "id": "a0EkUdgnVf3e"
      },
      "execution_count": null,
      "outputs": []
    },
    {
      "cell_type": "markdown",
      "source": [
        "### <font color='orange'>**05) Quantos pedidos foram realizados?**</font>"
      ],
      "metadata": {
        "id": "2pZBtEZ0Vpwr"
      }
    },
    {
      "cell_type": "code",
      "source": [
        "# Solução aqui\n",
        "\n"
      ],
      "metadata": {
        "id": "xf1naiq0Vpws"
      },
      "execution_count": null,
      "outputs": []
    },
    {
      "cell_type": "markdown",
      "source": [
        "### <font color='orange'>**06) Quantos livros foram vendidos?**</font>"
      ],
      "metadata": {
        "id": "Nypc6P-zWI3i"
      }
    },
    {
      "cell_type": "code",
      "source": [
        "# Solução aqui\n",
        "\n"
      ],
      "metadata": {
        "id": "L2fDUIlQWI3j"
      },
      "execution_count": null,
      "outputs": []
    },
    {
      "cell_type": "markdown",
      "source": [
        "### <font color='orange'>**07) Qual é a quantidade por livro no estoque?**</font>"
      ],
      "metadata": {
        "id": "uy3VMNhYWI70"
      }
    },
    {
      "cell_type": "code",
      "source": [
        "# Solução aqui\n",
        "\n"
      ],
      "metadata": {
        "id": "InhwiIsFWI70"
      },
      "execution_count": null,
      "outputs": []
    },
    {
      "cell_type": "markdown",
      "source": [
        "### <font color='orange'>**08) Determine o número de livros que são da categoria \"Ciência de Dados\".**</font>"
      ],
      "metadata": {
        "id": "evE0U3qrWI_i"
      }
    },
    {
      "cell_type": "code",
      "source": [
        "# Solução aqui\n",
        "\n"
      ],
      "metadata": {
        "id": "b_g_LRITWI_j"
      },
      "execution_count": null,
      "outputs": []
    },
    {
      "cell_type": "markdown",
      "source": [
        "### <font color='orange'>**09) Determine o número de livros que não são da categoria \"Ciência de Dados\".**</font>"
      ],
      "metadata": {
        "id": "9-otobOjWJDj"
      }
    },
    {
      "cell_type": "code",
      "source": [
        "# Solução aqui\n",
        "\n"
      ],
      "metadata": {
        "id": "Z8eFKPaCWJDk"
      },
      "execution_count": null,
      "outputs": []
    },
    {
      "cell_type": "markdown",
      "source": [
        "### <font color='orange'>**10) Determine o número de categorias de livros atualmente existente no banco de dados.**</font>"
      ],
      "metadata": {
        "id": "0m9wCnFhWJIA"
      }
    },
    {
      "cell_type": "code",
      "source": [
        "# Solução aqui\n",
        "\n"
      ],
      "metadata": {
        "id": "tpodSU0NWJIA"
      },
      "execution_count": null,
      "outputs": []
    },
    {
      "cell_type": "markdown",
      "source": [
        "### <font color='orange'>**11) Qual é o número de livros por categoria?**</font>"
      ],
      "metadata": {
        "id": "nprIUMlzWlNI"
      }
    },
    {
      "cell_type": "code",
      "source": [
        "# Solução aqui\n",
        "\n"
      ],
      "metadata": {
        "id": "UTpUQNtSWlNJ"
      },
      "execution_count": null,
      "outputs": []
    },
    {
      "cell_type": "markdown",
      "source": [
        "### <font color='orange'>**12) Considere que a tabela itens_pedido armazene o valor de quantidade e de preço unitário de cada item pedido. Os cliente gastaram quanto em cada item pedido? Em outras palavras, qual é o valor total de cada item pedido?**</font>"
      ],
      "metadata": {
        "id": "WaI-9Y-zWoOh"
      }
    },
    {
      "cell_type": "code",
      "source": [
        "# Solução aqui\n",
        "\n"
      ],
      "metadata": {
        "id": "UCzPK0DUWoOi"
      },
      "execution_count": null,
      "outputs": []
    },
    {
      "cell_type": "markdown",
      "source": [
        "### <font color='orange'>**13) Agora que você encontrou o valor total de cada item_pedido, responda: qual é a soma total de todos esses valores?**</font>"
      ],
      "metadata": {
        "id": "KsLJj0HuWoVK"
      }
    },
    {
      "cell_type": "code",
      "source": [
        "# Solução aqui\n",
        "\n"
      ],
      "metadata": {
        "id": "zACmhzoaWoVK"
      },
      "execution_count": null,
      "outputs": []
    },
    {
      "cell_type": "markdown",
      "source": [
        "### <font color='orange'>**14) Quais livros são mais pedidos pelos clientes em ordem decrescente?**</font>"
      ],
      "metadata": {
        "id": "7hmGyuz9WoX8"
      }
    },
    {
      "cell_type": "code",
      "source": [
        "# Solução aqui\n",
        "\n"
      ],
      "metadata": {
        "id": "GHA1Tt6EWoX8"
      },
      "execution_count": null,
      "outputs": []
    },
    {
      "cell_type": "markdown",
      "source": [
        "### <font color='orange'>**15) Qual é a quantidade de livros por editora?**</font>"
      ],
      "metadata": {
        "id": "WUwmcG1OWobI"
      }
    },
    {
      "cell_type": "code",
      "source": [
        "# Solução aqui\n",
        "\n"
      ],
      "metadata": {
        "id": "MxOvMLxJWobJ"
      },
      "execution_count": null,
      "outputs": []
    },
    {
      "cell_type": "markdown",
      "source": [
        "### <font color='orange'>**16) Determine os títulos dos livros e a quantidade no estoque.**</font>"
      ],
      "metadata": {
        "id": "5dqHYbsUWod9"
      }
    },
    {
      "cell_type": "code",
      "source": [
        "# Solução aqui\n",
        "\n"
      ],
      "metadata": {
        "id": "Qadub5ZrWod9"
      },
      "execution_count": null,
      "outputs": []
    },
    {
      "cell_type": "markdown",
      "source": [
        "### <font color='orange'>**17) Determine os nomes das editoras e a quantidade de livros no estoque.**</font>"
      ],
      "metadata": {
        "id": "X-0i-MVWWogp"
      }
    },
    {
      "cell_type": "code",
      "source": [
        "# Solução aqui\n",
        "\n"
      ],
      "metadata": {
        "id": "qVPjc2MEWogq"
      },
      "execution_count": null,
      "outputs": []
    },
    {
      "cell_type": "markdown",
      "source": [
        "### <font color='orange'>**18) Determine os nomes dos livros mais pedidos pelos clientes. Coloque a quantidade em ordem decrescente.**</font>"
      ],
      "metadata": {
        "id": "KeQUax8HWojd"
      }
    },
    {
      "cell_type": "code",
      "source": [
        "# Solução aqui\n",
        "\n"
      ],
      "metadata": {
        "id": "-DpKe9JlWojd"
      },
      "execution_count": null,
      "outputs": []
    },
    {
      "cell_type": "markdown",
      "source": [
        "### <font color='orange'>**19) Determine quais são os livros de cada editora. Em outras palavras quais livros são de quais editoras?**</font>"
      ],
      "metadata": {
        "id": "6UzGaHVTWomI"
      }
    },
    {
      "cell_type": "code",
      "source": [
        "# Solução aqui\n",
        "\n"
      ],
      "metadata": {
        "id": "SM0nFIxyWomJ"
      },
      "execution_count": null,
      "outputs": []
    }
  ]
}